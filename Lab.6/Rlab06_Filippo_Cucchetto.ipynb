{
 "cells": [
  {
   "cell_type": "markdown",
   "metadata": {},
   "source": [
    "### LAB 6"
   ]
  },
  {
   "cell_type": "markdown",
   "metadata": {},
   "source": [
    "Filippo Cucchetto (matr.2110510)"
   ]
  },
  {
   "cell_type": "markdown",
   "metadata": {
    "vscode": {
     "languageId": "plaintext"
    }
   },
   "source": [
    "### Exercise 1"
   ]
  },
  {
   "cell_type": "markdown",
   "metadata": {},
   "source": [
    "a) assuming a uniform prior, compute and plot the posterior distribution for λ, the death rate over\n",
    "the measurement time. \n",
    "Determine the posterior mean, median and variance, and compute the 95%\n",
    "credibility interval."
   ]
  },
  {
   "cell_type": "markdown",
   "metadata": {},
   "source": [
    "Since the likelihood function is a Poisson distribution we have that the conjugate posterior is a gamma distribution."
   ]
  },
  {
   "cell_type": "code",
   "execution_count": 1,
   "metadata": {
    "vscode": {
     "languageId": "r"
    }
   },
   "outputs": [],
   "source": [
    "y=c(0,1,2,3,4,5)\n",
    "n1=c(109,65,22,3,1,0)\n",
    "n2=c(144,91,32,11,2,0)\n",
    "m=1000"
   ]
  },
  {
   "cell_type": "code",
   "execution_count": 2,
   "metadata": {
    "vscode": {
     "languageId": "r"
    }
   },
   "outputs": [
    {
     "name": "stdout",
     "output_type": "stream",
     "text": [
      "UNIFORM PRIOR \n",
      "################## \n",
      "Posterior Mean first Dataset 0.615 \n",
      "Posterior Variance first Dataset 0.003075 \n",
      "################## \n",
      "Posterior Mean second Dataset 0.7035714 \n",
      "Posterior Variance second Dataset 0.002512755 \n"
     ]
    },
    {
     "data": {
      "image/png": "[encoded data removed]",
      "text/plain": [
       "Plot with title \"PostUniform\""
      ]
     },
     "metadata": {
      "image/png": {
       "height": 420,
       "width": 420
      }
     },
     "output_type": "display_data"
    }
   ],
   "source": [
    "l=seq(0,1,length.out = m)\n",
    "ComputePosterior=function(counts,tab,l,c){\n",
    "    a=sum(counts*tab)\n",
    "    b=sum(counts)\n",
    "    if(c==1){\n",
    "        alpha=a+1\n",
    "        lam=b\n",
    "    }\n",
    "    else{\n",
    "        alpha=a+0.5\n",
    "        lam=b\n",
    "    }\n",
    "    post=dgamma(l,alpha,lam)\n",
    "    post_mean=alpha/lam\n",
    "    post_variance=alpha/(lam^2)\n",
    "    CI = c(qgamma(2.5/100,alpha, lam) ,qgamma(97.5/100, alpha,lam))\n",
    "\n",
    "    df=data.frame(posterior=post,mean=post_mean,variance=post_variance, credInt=CI)\n",
    "    return(df)\n",
    "}\n",
    "cat(\"UNIFORM PRIOR\",\"\\n\")\n",
    "cat(\"##################\",\"\\n\")\n",
    "df1 = ComputePosterior(n1, y, l, 1)\n",
    "df2 = ComputePosterior(n2, y, l, 1)\n",
    "\n",
    "plot(l, df2$posterior, col='blue', type='l', xlab='Lambda', ylab='Posterior', main=\"PostUniform\")\n",
    "lines(l, df1$posterior, col='red', type='l', xlab='Lambda', ylab='Posterior')\n",
    "\n",
    "abline(v=c(df1$credInt[1], df1$credInt[m]), lty=2, col=\"orange\", lwd=2)\n",
    "abline(v=c(df2$credInt[1], df2$credInt[m]), lty=2, col=\"lightblue\", lwd=2)\n",
    "\n",
    "legend(\"topleft\", legend = c(\"First DataSet\", \"Second DataSet\", \"First C.I.\", \"Second C.I.\"), col=c(\"Red\", \"Blue\", \"orange\", \"lightblue\"), lty=c(1, 4))\n",
    "\n",
    "cat(\"Posterior Mean first Dataset\", df1$mean[1], \"\\n\")\n",
    "cat(\"Posterior Variance first Dataset\", df1$variance[1], \"\\n\")\n",
    "cat(\"##################\", \"\\n\")\n",
    "cat(\"Posterior Mean second Dataset\", df2$mean[1], \"\\n\")\n",
    "cat(\"Posterior Variance second Dataset\", df2$variance[1], \"\\n\")"
   ]
  },
  {
   "cell_type": "code",
   "execution_count": 3,
   "metadata": {
    "vscode": {
     "languageId": "r"
    }
   },
   "outputs": [
    {
     "name": "stdout",
     "output_type": "stream",
     "text": [
      "JEFFREY'S PRIOR \n",
      "################## \n",
      "Posterior Mean first Dataset 0.6125 \n",
      "Posterior Variance first Dataset 0.0030625 \n",
      "################## \n",
      "Posterior Mean second Dataset 0.7017857 \n",
      "Posterior Variance second Dataset 0.002506378 \n"
     ]
    },
    {
     "data": {
      "image/png": "[encoded data removed]",
      "text/plain": [
       "Plot with title \"JeffreyUniform\""
      ]
     },
     "metadata": {
      "image/png": {
       "height": 420,
       "width": 420
      }
     },
     "output_type": "display_data"
    }
   ],
   "source": [
    "cat(\"JEFFREY'S PRIOR\",\"\\n\")\n",
    "cat(\"##################\",\"\\n\")\n",
    "df1 = ComputePosterior(n1, y, l, 2)\n",
    "df2 = ComputePosterior(n2, y, l, 2)\n",
    "\n",
    "plot(l, df2$posterior, col='blue', type='l', xlab='Lambda', ylab='Posterior', main=\"JeffreyUniform\")\n",
    "lines(l, df1$posterior, col='red', type='l', xlab='Lambda', ylab='Posterior')\n",
    "\n",
    "abline(v=c(df1$credInt[1], df1$credInt[m]), lty=2, col=\"orange\", lwd=2)\n",
    "abline(v=c(df2$credInt[1], df2$credInt[m]), lty=2, col=\"lightblue\", lwd=2)\n",
    "\n",
    "legend(\"topleft\", legend = c(\"First DataSet\", \"Second DataSet\", \"First C.I.\", \"Second C.I.\"), col=c(\"Red\", \"Blue\", \"orange\", \"lightblue\"), lty=c(1, 4))\n",
    "\n",
    "cat(\"Posterior Mean first Dataset\", df1$mean[1], \"\\n\")\n",
    "cat(\"Posterior Variance first Dataset\", df1$variance[1], \"\\n\")\n",
    "cat(\"##################\", \"\\n\")\n",
    "cat(\"Posterior Mean second Dataset\", df2$mean[1], \"\\n\")\n",
    "cat(\"Posterior Variance second Dataset\", df2$variance[1], \"\\n\")"
   ]
  },
  {
   "cell_type": "markdown",
   "metadata": {},
   "source": [
    "### EXERCISE 2"
   ]
  },
  {
   "cell_type": "code",
   "execution_count": 4,
   "metadata": {
    "vscode": {
     "languageId": "r"
    }
   },
   "outputs": [
    {
     "name": "stderr",
     "output_type": "stream",
     "text": [
      "Loading required package: StanHeaders\n",
      "\n",
      "\n",
      "rstan version 2.32.6 (Stan version 2.32.2)\n",
      "\n",
      "\n",
      "For execution on a local, multicore CPU with excess RAM we recommend calling\n",
      "options(mc.cores = parallel::detectCores()).\n",
      "To avoid recompilation of unchanged Stan programs, we recommend calling\n",
      "rstan_options(auto_write = TRUE)\n",
      "For within-chain threading using `reduce_sum()` or `map_rect()` Stan functions,\n",
      "change `threads_per_chain` option:\n",
      "rstan_options(threads_per_chain = 1)\n",
      "\n",
      "\n",
      "Do not specify '-march=native' in 'LOCAL_CPPFLAGS' or a Makevars file\n",
      "\n"
     ]
    }
   ],
   "source": [
    "library('rstan')"
   ]
  },
  {
   "cell_type": "code",
   "execution_count": 5,
   "metadata": {
    "vscode": {
     "languageId": "r"
    }
   },
   "outputs": [
    {
     "name": "stdout",
     "output_type": "stream",
     "text": [
      "\n",
      "SAMPLING FOR MODEL 'anon_model' NOW (CHAIN 1).\n",
      "Chain 1: \n",
      "Chain 1: Gradient evaluation took 0.000142 seconds\n",
      "Chain 1: 1000 transitions using 10 leapfrog steps per transition would take 1.42 seconds.\n",
      "Chain 1: Adjust your expectations accordingly!\n",
      "Chain 1: \n",
      "Chain 1: \n",
      "Chain 1: Iteration:    1 / 8000 [  0%]  (Warmup)\n",
      "Chain 1: Iteration:  401 / 8000 [  5%]  (Sampling)\n",
      "Chain 1: Iteration: 1200 / 8000 [ 15%]  (Sampling)\n",
      "Chain 1: Iteration: 2000 / 8000 [ 25%]  (Sampling)\n",
      "Chain 1: Iteration: 2800 / 8000 [ 35%]  (Sampling)\n",
      "Chain 1: Iteration: 3600 / 8000 [ 45%]  (Sampling)\n",
      "Chain 1: Iteration: 4400 / 8000 [ 55%]  (Sampling)\n",
      "Chain 1: Iteration: 5200 / 8000 [ 65%]  (Sampling)\n",
      "Chain 1: Iteration: 6000 / 8000 [ 75%]  (Sampling)\n",
      "Chain 1: Iteration: 6800 / 8000 [ 85%]  (Sampling)\n",
      "Chain 1: Iteration: 7600 / 8000 [ 95%]  (Sampling)\n",
      "Chain 1: Iteration: 8000 / 8000 [100%]  (Sampling)\n",
      "Chain 1: \n",
      "Chain 1:  Elapsed Time: 0.142 seconds (Warm-up)\n",
      "Chain 1:                1.327 seconds (Sampling)\n",
      "Chain 1:                1.469 seconds (Total)\n",
      "Chain 1: \n",
      "\n",
      "SAMPLING FOR MODEL 'anon_model' NOW (CHAIN 1).\n",
      "Chain 1: \n",
      "Chain 1: Gradient evaluation took 7.3e-05 seconds\n",
      "Chain 1: 1000 transitions using 10 leapfrog steps per transition would take 0.73 seconds.\n",
      "Chain 1: Adjust your expectations accordingly!\n",
      "Chain 1: \n",
      "Chain 1: \n",
      "Chain 1: Iteration:    1 / 8000 [  0%]  (Warmup)\n",
      "Chain 1: Iteration:  401 / 8000 [  5%]  (Sampling)\n",
      "Chain 1: Iteration: 1200 / 8000 [ 15%]  (Sampling)\n",
      "Chain 1: Iteration: 2000 / 8000 [ 25%]  (Sampling)\n",
      "Chain 1: Iteration: 2800 / 8000 [ 35%]  (Sampling)\n",
      "Chain 1: Iteration: 3600 / 8000 [ 45%]  (Sampling)\n",
      "Chain 1: Iteration: 4400 / 8000 [ 55%]  (Sampling)\n",
      "Chain 1: Iteration: 5200 / 8000 [ 65%]  (Sampling)\n",
      "Chain 1: Iteration: 6000 / 8000 [ 75%]  (Sampling)\n",
      "Chain 1: Iteration: 6800 / 8000 [ 85%]  (Sampling)\n",
      "Chain 1: Iteration: 7600 / 8000 [ 95%]  (Sampling)\n",
      "Chain 1: Iteration: 8000 / 8000 [100%]  (Sampling)\n",
      "Chain 1: \n",
      "Chain 1:  Elapsed Time: 0.184 seconds (Warm-up)\n",
      "Chain 1:                1.799 seconds (Sampling)\n",
      "Chain 1:                1.983 seconds (Total)\n",
      "Chain 1: \n"
     ]
    }
   ],
   "source": [
    "modelString_uniform = \"\n",
    "data {\n",
    "  int<lower=0> N;\n",
    "  int y[N];      \n",
    "}\n",
    "parameters {\n",
    "  real<lower=0> lambda; \n",
    "}\n",
    "model {\n",
    "  lambda ~ beta(1,1);\n",
    "  for (n in 1:N)\n",
    "    y[n] ~ poisson(lambda);\n",
    "}\n",
    "\"\n",
    "stanDso_uniform=stan_model(model_code = modelString_uniform)\n",
    "\n",
    "y1=rep(0:5,n1) \n",
    "N1=length(y1)\n",
    "dataList1=list(N = N1, y = y1)\n",
    "\n",
    "stanFit_uniform1=sampling(object = stanDso_uniform,data = dataList1,chains = 1,iter = 8000,warmup = 400,thin = 1)\n",
    "posterior_samples_uniform1=extract(stanFit_uniform1)$lambda\n",
    "y2=rep(0:5, n2)\n",
    "N2=length(y2)\n",
    "dataList2=list(N = N2,  y = y2)\n",
    "\n",
    "stanFit_uniform2=sampling(object = stanDso_uniform,\n",
    "                            data = dataList2,\n",
    "                            chains = 1,\n",
    "                            iter = 8000,\n",
    "                            warmup = 400,\n",
    "                            thin = 1)\n",
    "posterior_samples_uniform2=extract(stanFit_uniform2)$lambda\n",
    "post1=density(posterior_samples_uniform1)\n",
    "post2=density(posterior_samples_uniform2)\n",
    "credInt1=quantile(posterior_samples_uniform1, probs = c(0.025, 0.975))\n",
    "credInt2=quantile(posterior_samples_uniform2, probs = c(0.025, 0.975))\n"
   ]
  },
  {
   "cell_type": "code",
   "execution_count": 6,
   "metadata": {
    "vscode": {
     "languageId": "r"
    }
   },
   "outputs": [
    {
     "name": "stdout",
     "output_type": "stream",
     "text": [
      "#################### \n",
      "Posterior Mean first Dataset 0.616004 \n",
      "Posterior Variance first Dataset 0.003037526 \n",
      "################## \n",
      "Posterior Mean second Dataset 0.7048424 \n",
      "Posterior Variance second Dataset 0.002445765 \n"
     ]
    },
    {
     "data": {
      "image/png": "[encoded data removed]",
      "text/plain": [
       "Plot with title \"UniformPost\""
      ]
     },
     "metadata": {
      "image/png": {
       "height": 420,
       "width": 420
      }
     },
     "output_type": "display_data"
    }
   ],
   "source": [
    "plot(post2,col='blue',type='l',xlab='Lambda',ylab='Posterior',main=\"UniformPost\",xlim=c(0,1))\n",
    "\n",
    "lines(post1,col='red', type='l', xlab='Lambda', ylab='Posterior')\n",
    "abline(v=c(credInt1[1], credInt1[2]), lty=2, col=\"orange\", lwd=2)\n",
    "abline(v=c(credInt2[1], credInt2[2]), lty=2, col=\"lightblue\", lwd=2)\n",
    "legend(\"topleft\", legend = c(\"First DataSet\", \"Second DataSet\", \"First C.I.\", \"Second C.I.\"), col=c(\"Red\", \"Blue\", \"orange\", \"lightblue\"), lty=c(1, 4))\n",
    "cat(\"####################\",\"\\n\")\n",
    "cat(\"Posterior Mean first Dataset\",mean(posterior_samples_uniform1), \"\\n\")\n",
    "cat(\"Posterior Variance first Dataset\",var(posterior_samples_uniform1), \"\\n\")\n",
    "cat(\"##################\", \"\\n\")\n",
    "cat(\"Posterior Mean second Dataset\",mean(posterior_samples_uniform2), \"\\n\")\n",
    "cat(\"Posterior Variance second Dataset\",var(posterior_samples_uniform2), \"\\n\")"
   ]
  },
  {
   "cell_type": "code",
   "execution_count": 7,
   "metadata": {
    "vscode": {
     "languageId": "r"
    }
   },
   "outputs": [
    {
     "name": "stdout",
     "output_type": "stream",
     "text": [
      "\n",
      "SAMPLING FOR MODEL 'anon_model' NOW (CHAIN 1).\n",
      "Chain 1: \n",
      "Chain 1: Gradient evaluation took 0.000119 seconds\n",
      "Chain 1: 1000 transitions using 10 leapfrog steps per transition would take 1.19 seconds.\n",
      "Chain 1: Adjust your expectations accordingly!\n",
      "Chain 1: \n",
      "Chain 1: \n",
      "Chain 1: Iteration:    1 / 8000 [  0%]  (Warmup)\n",
      "Chain 1: Iteration:  401 / 8000 [  5%]  (Sampling)\n",
      "Chain 1: Iteration: 1200 / 8000 [ 15%]  (Sampling)\n",
      "Chain 1: Iteration: 2000 / 8000 [ 25%]  (Sampling)\n",
      "Chain 1: Iteration: 2800 / 8000 [ 35%]  (Sampling)\n",
      "Chain 1: Iteration: 3600 / 8000 [ 45%]  (Sampling)\n",
      "Chain 1: Iteration: 4400 / 8000 [ 55%]  (Sampling)\n",
      "Chain 1: Iteration: 5200 / 8000 [ 65%]  (Sampling)\n",
      "Chain 1: Iteration: 6000 / 8000 [ 75%]  (Sampling)\n",
      "Chain 1: Iteration: 6800 / 8000 [ 85%]  (Sampling)\n",
      "Chain 1: Iteration: 7600 / 8000 [ 95%]  (Sampling)\n",
      "Chain 1: Iteration: 8000 / 8000 [100%]  (Sampling)\n",
      "Chain 1: \n",
      "Chain 1:  Elapsed Time: 0.153 seconds (Warm-up)\n",
      "Chain 1:                1.721 seconds (Sampling)\n",
      "Chain 1:                1.874 seconds (Total)\n",
      "Chain 1: \n",
      "\n",
      "SAMPLING FOR MODEL 'anon_model' NOW (CHAIN 1).\n",
      "Chain 1: Rejecting initial value:\n",
      "Chain 1:   Error evaluating the log probability at the initial value.\n",
      "Chain 1: Exception: beta_lpdf: Random variable is 5.83966, but must be in the interval [0, 1] (in 'string', line 9, column 2 to column 25)\n",
      "Chain 1: \n",
      "Chain 1: Gradient evaluation took 6.3e-05 seconds\n",
      "Chain 1: 1000 transitions using 10 leapfrog steps per transition would take 0.63 seconds.\n",
      "Chain 1: Adjust your expectations accordingly!\n",
      "Chain 1: \n",
      "Chain 1: \n",
      "Chain 1: Iteration:    1 / 8000 [  0%]  (Warmup)\n",
      "Chain 1: Iteration:  401 / 8000 [  5%]  (Sampling)\n",
      "Chain 1: Iteration: 1200 / 8000 [ 15%]  (Sampling)\n",
      "Chain 1: Iteration: 2000 / 8000 [ 25%]  (Sampling)\n",
      "Chain 1: Iteration: 2800 / 8000 [ 35%]  (Sampling)\n",
      "Chain 1: Iteration: 3600 / 8000 [ 45%]  (Sampling)\n",
      "Chain 1: Iteration: 4400 / 8000 [ 55%]  (Sampling)\n",
      "Chain 1: Iteration: 5200 / 8000 [ 65%]  (Sampling)\n",
      "Chain 1: Iteration: 6000 / 8000 [ 75%]  (Sampling)\n",
      "Chain 1: Iteration: 6800 / 8000 [ 85%]  (Sampling)\n",
      "Chain 1: Iteration: 7600 / 8000 [ 95%]  (Sampling)\n",
      "Chain 1: Iteration: 8000 / 8000 [100%]  (Sampling)\n",
      "Chain 1: \n",
      "Chain 1:  Elapsed Time: 0.204 seconds (Warm-up)\n",
      "Chain 1:                1.886 seconds (Sampling)\n",
      "Chain 1:                2.09 seconds (Total)\n",
      "Chain 1: \n"
     ]
    }
   ],
   "source": [
    "modelString_uniform = \"\n",
    "data {\n",
    "  int<lower=0> N;\n",
    "  int y[N];      \n",
    "}\n",
    "parameters {\n",
    "  real<lower=0> lambda; \n",
    "}\n",
    "model {\n",
    "  lambda ~ beta(0.5,0.5);\n",
    "  for (n in 1:N)\n",
    "    y[n] ~ poisson(lambda);\n",
    "}\n",
    "\"\n",
    "stanDso_uniform=stan_model(model_code = modelString_uniform)\n",
    "\n",
    "y1=rep(0:5,n1) \n",
    "N1=length(y1)\n",
    "dataList1=list(N = N1, y = y1)\n",
    "\n",
    "stanFit_uniform1=sampling(object = stanDso_uniform,data = dataList1,chains = 1,iter = 8000,warmup = 400,thin = 1)\n",
    "posterior_samples_uniform1=extract(stanFit_uniform1)$lambda\n",
    "y2=rep(0:5, n2)\n",
    "N2=length(y2)\n",
    "dataList2=list(N = N2,  y = y2)\n",
    "\n",
    "stanFit_uniform2=sampling(object = stanDso_uniform,\n",
    "                            data = dataList2,\n",
    "                            chains = 1,\n",
    "                            iter = 8000,\n",
    "                            warmup = 400,\n",
    "                            thin = 1)\n",
    "posterior_samples_uniform2=extract(stanFit_uniform2)$lambda\n",
    "post1=density(posterior_samples_uniform1)\n",
    "post2=density(posterior_samples_uniform2)\n",
    "credInt1=quantile(posterior_samples_uniform1, probs = c(0.025, 0.975))\n",
    "credInt2=quantile(posterior_samples_uniform2, probs = c(0.025, 0.975))\n",
    "\n"
   ]
  },
  {
   "cell_type": "code",
   "execution_count": 8,
   "metadata": {
    "vscode": {
     "languageId": "r"
    }
   },
   "outputs": [
    {
     "name": "stdout",
     "output_type": "stream",
     "text": [
      "Posterior Mean first Dataset 0.6169816 \n",
      "Posterior Variance first Dataset 0.003041753 \n",
      "################## \n",
      "Posterior Mean second Dataset 0.7057793 \n",
      "Posterior Variance second Dataset 0.002575396 \n"
     ]
    },
    {
     "data": {
      "image/png": "[encoded data removed]",
      "text/plain": [
       "Plot with title \"JeffreyPost\""
      ]
     },
     "metadata": {
      "image/png": {
       "height": 420,
       "width": 420
      }
     },
     "output_type": "display_data"
    }
   ],
   "source": [
    "plot(post2,col='blue',type='l',xlab='Lambda',ylab='Posterior',xlim=c(0,1),main=\"JeffreyPost\")\n",
    "lines(post1,col='red', type='l', xlab='Lambda', ylab='Posterior')\n",
    "\n",
    "abline(v=c(credInt1[1], credInt1[2]), lty=2, col=\"orange\", lwd=2)\n",
    "abline(v=c(credInt2[1], credInt2[2]), lty=2, col=\"lightblue\", lwd=2)\n",
    "legend(\"topleft\", legend = c(\"First DataSet\", \"Second DataSet\", \"First C.I.\", \"Second C.I.\"), col=c(\"Red\", \"Blue\", \"orange\", \"lightblue\"), lty=c(1, 4))\n",
    "\n",
    "\n",
    "cat(\"Posterior Mean first Dataset\",mean(posterior_samples_uniform1), \"\\n\")\n",
    "cat(\"Posterior Variance first Dataset\",var(posterior_samples_uniform1), \"\\n\")\n",
    "cat(\"##################\", \"\\n\")\n",
    "cat(\"Posterior Mean second Dataset\",mean(posterior_samples_uniform2), \"\\n\")\n",
    "cat(\"Posterior Variance second Dataset\",var(posterior_samples_uniform2), \"\\n\")"
   ]
  },
  {
   "cell_type": "markdown",
   "metadata": {},
   "source": [
    "### EXERCISE 3"
   ]
  },
  {
   "cell_type": "code",
   "execution_count": 9,
   "metadata": {
    "vscode": {
     "languageId": "r"
    }
   },
   "outputs": [],
   "source": [
    "n=116\n",
    "y=11\n",
    "m=100\n",
    "alpha=1\n",
    "beta=10"
   ]
  },
  {
   "cell_type": "code",
   "execution_count": 10,
   "metadata": {
    "vscode": {
     "languageId": "r"
    }
   },
   "outputs": [
    {
     "name": "stdout",
     "output_type": "stream",
     "text": [
      "Frequentis estimation of p: 0.09482759 \n"
     ]
    }
   ],
   "source": [
    "ComputePosterior3=function(y,n,alpha,beta,m){\n",
    "\n",
    "    #Frequentistit esitmation\n",
    "    p=y/n\n",
    "    cat(\"Frequentis estimation of p:\",p,\"\\n\")\n",
    "    AA=0.05\n",
    "   \n",
    "    #Conjugate Posterior, since the likelihood is a binomial\n",
    "    a=alpha+y\n",
    "    b=beta+n-y\n",
    "    l=seq(0,1,length.out = m)\n",
    "    post_distro=dbeta(l,a,b)/sum(dbeta(l,a,b))\n",
    "    post_mean=a/(a+b)\n",
    "    post_var=(a*b)/(((a+b)^2)*(a+b+1))\n",
    "    CI = c(qbeta(2.5/100,a,b) ,qbeta(97.5/100, a,b))\n",
    "    df=data.frame(Dat=l,posterior=post_distro,mean=post_mean,var=post_var,CredInt=CI)\n",
    "    ###perform the Hypothesis test###\n",
    "    \n",
    "    return(df)\n",
    "}\n",
    "D=ComputePosterior3(y,n,alpha,beta,m)\n"
   ]
  },
  {
   "cell_type": "code",
   "execution_count": 11,
   "metadata": {
    "vscode": {
     "languageId": "r"
    }
   },
   "outputs": [
    {
     "name": "stdout",
     "output_type": "stream",
     "text": [
      "Mean 0.09448819 \n",
      "Variance 0.0006684388 \n",
      "For the Bayesian approach we can say that: \n",
      " Since 0.1 is inside our Credibility Interval we can say that we have 95% probability that our water is contamineted with 10% bacteria \n"
     ]
    },
    {
     "data": {
      "image/png": "[encoded data removed]",
      "text/plain": [
       "Plot with title \"Posterior\""
      ]
     },
     "metadata": {
      "image/png": {
       "height": 420,
       "width": 420
      }
     },
     "output_type": "display_data"
    }
   ],
   "source": [
    "plot(D$Dat,D$posterior,col='blue',type='l',xlab='p',ylab='post',main='Posterior')\n",
    "cat(\"Mean\",D$mean[1],\"\\n\")\n",
    "cat(\"Variance\",D$var[1],\"\\n\")\n",
    "abline(v=c(D$CredInt[1], D$CredInt[m]), lty=2, col=\"orange\", lwd=2)\n",
    "abline(v=0.1,col=\"lightblue\",lty=2)\n",
    "legend(\"topright\", legend = c(\"Posterior\", \"C.I.\",\"p=0.1\"), col=c( \"Blue\", \"orange\",\"lightblue\"), lty=c(1, 2))\n",
    "cat(\"For the Bayesian approach we can say that:\",\"\\n\", \"Since 0.1 is inside our Credibility Interval we can say that we have 95% probability that our water is contamineted with 10% bacteria\",\"\\n\")"
   ]
  },
  {
   "cell_type": "markdown",
   "metadata": {},
   "source": [
    "Now for the Frequentist approach we just need to compute the probability of getting y=11 in n=116 with a p=0.1, if that values is greater that our alpha (5%) we can accept the Null Hypothesis"
   ]
  },
  {
   "cell_type": "code",
   "execution_count": 12,
   "metadata": {
    "vscode": {
     "languageId": "r"
    }
   },
   "outputs": [
    {
     "name": "stdout",
     "output_type": "stream",
     "text": [
      "Null Hypothesis accepted \n",
      "Probability 0.1232879"
     ]
    }
   ],
   "source": [
    "p  = .1\n",
    "p0 = dbinom(y,n,p)\n",
    "alpha = .05\n",
    "if(p0>alpha){\n",
    "    cat(\"Null Hypothesis accepted\",\"\\n\")\n",
    "    cat(\"Probability\",p0)\n",
    "}"
   ]
  },
  {
   "cell_type": "markdown",
   "metadata": {},
   "source": [
    "A new measurement, performed one month later on n = 165 water samples, gives y = 9 high bacter\n",
    "X level "
   ]
  },
  {
   "cell_type": "code",
   "execution_count": 13,
   "metadata": {
    "vscode": {
     "languageId": "r"
    }
   },
   "outputs": [
    {
     "name": "stdout",
     "output_type": "stream",
     "text": [
      "The frequentist estimation of p is: 0.05454545 \n"
     ]
    }
   ],
   "source": [
    "p_f=9/165\n",
    "cat(\"The frequentist estimation of p is:\",p_f,\"\\n\")"
   ]
  },
  {
   "cell_type": "code",
   "execution_count": 14,
   "metadata": {
    "vscode": {
     "languageId": "r"
    }
   },
   "outputs": [
    {
     "name": "stdout",
     "output_type": "stream",
     "text": [
      "With a Beta 1,10 the bayesian estimation of p (posterior mean) is: 0.08766363 \n",
      "The credibility interval is 0.04502168 0.1426408 \n",
      "For the Bayesian approach we can say that: \n",
      " Since 0.1 is inside our Credibility Interval we can say that we have 95% probability that our water is contamineted with 10% bacteria \n"
     ]
    },
    {
     "data": {
      "image/png": "[encoded data removed]",
      "text/plain": [
       "Plot with title \"Posterior\""
      ]
     },
     "metadata": {
      "image/png": {
       "height": 420,
       "width": 420
      }
     },
     "output_type": "display_data"
    }
   ],
   "source": [
    "l=seq(0,1,length.out = m)\n",
    "a=alpha+y\n",
    "b=beta+n-y\n",
    "post_distro=dbeta(l,a,b)/sum(dbeta(l,a,b))\n",
    "post_mean=a/(a+b)\n",
    "CI = c(qbeta(2.5/100,a,b) ,qbeta(97.5/100, a,b))\n",
    "\n",
    "cat(\"With a Beta 1,10 the bayesian estimation of p (posterior mean) is:\",post_mean,\"\\n\")\n",
    "cat(\"The credibility interval is\",CI,\"\\n\")\n",
    "\n",
    "plot(l,post_distro,col='blue',type='l',xlab='p',ylab='post',main='Posterior',xlim=c(0,0.4))\n",
    "\n",
    "abline(v=c(CI[1], CI[2]), lty=2, col=\"orange\", lwd=2)\n",
    "abline(v=0.1,col=\"lightblue\",lty=2)\n",
    "legend(\"topright\", legend = c(\"Posterior\", \"C.I.\",\"p=0.1\"), col=c( \"Blue\", \"orange\",\"lightblue\"), lty=c(1, 2))\n",
    "cat(\"For the Bayesian approach we can say that:\",\"\\n\", \"Since 0.1 is inside our Credibility Interval we can say that we have 95% probability that our water is contamineted with 10% bacteria\",\"\\n\")\n"
   ]
  },
  {
   "cell_type": "markdown",
   "metadata": {
    "vscode": {
     "languageId": "r"
    }
   },
   "source": [
    "Now using the conjugated posterior we just need to updated the parameters "
   ]
  },
  {
   "cell_type": "code",
   "execution_count": 15,
   "metadata": {
    "vscode": {
     "languageId": "r"
    }
   },
   "outputs": [
    {
     "name": "stdout",
     "output_type": "stream",
     "text": [
      "With the old Posterior as prior the bayesian estimation of p (posterior mean) is: 0.09109688 \n",
      "The credibility interval is 0.05825072 0.130329 \n"
     ]
    }
   ],
   "source": [
    "a_post=a+y\n",
    "b_post=b+n-y\n",
    "post_distro=dbeta(l,a_post,b_post)/sum(dbeta(l,a_post,b_post))\n",
    "post_mean=a_post/(a_post+b_post)\n",
    "CI = c(qbeta(2.5/100,a_post,b_post) ,qbeta(97.5/100, a_post,b_post))\n",
    "\n",
    "cat(\"With the old Posterior as prior the bayesian estimation of p (posterior mean) is:\",post_mean,\"\\n\")\n",
    "cat(\"The credibility interval is\",CI,\"\\n\")"
   ]
  },
  {
   "cell_type": "code",
   "execution_count": 16,
   "metadata": {
    "vscode": {
     "languageId": "r"
    }
   },
   "outputs": [
    {
     "name": "stdout",
     "output_type": "stream",
     "text": [
      "For the Bayesian approach we can say that: \n",
      " Since 0.1 is inside our Credibility Interval we can say that we have 95% probability that our water is contamineted with 10% bacteria \n"
     ]
    },
    {
     "data": {
      "image/png": "[encoded data removed]",
      "text/plain": [
       "Plot with title \"Posterior\""
      ]
     },
     "metadata": {
      "image/png": {
       "height": 420,
       "width": 420
      }
     },
     "output_type": "display_data"
    }
   ],
   "source": [
    "plot(l,post_distro,col='blue',type='l',xlab='p',ylab='post',main='Posterior',xlim=c(0,0.4))\n",
    "\n",
    "abline(v=c(CI[1], CI[2]), lty=2, col=\"orange\", lwd=2)\n",
    "abline(v=0.1,col=\"lightblue\",lty=2)\n",
    "legend(\"topright\", legend = c(\"Posterior\", \"C.I.\",\"p=0.1\"), col=c( \"Blue\", \"orange\",\"lightblue\"), lty=c(1, 2))\n",
    "cat(\"For the Bayesian approach we can say that:\",\"\\n\", \"Since 0.1 is inside our Credibility Interval we can say that we have 95% probability that our water is contamineted with 10% bacteria\",\"\\n\")\n"
   ]
  },
  {
   "cell_type": "code",
   "execution_count": 17,
   "metadata": {
    "vscode": {
     "languageId": "r"
    }
   },
   "outputs": [
    {
     "name": "stdout",
     "output_type": "stream",
     "text": [
      "Frequentist test hypothesis: \n",
      "Null Hypothesis accepted \n",
      "Probability 0.135499"
     ]
    }
   ],
   "source": [
    "cat(\"Frequentist test hypothesis:\",\"\\n\")\n",
    "\n",
    "p0 = dbinom(9,165,p_f)\n",
    "alpha = .05\n",
    "if(p0>alpha){\n",
    "    cat(\"Null Hypothesis accepted\",\"\\n\")\n",
    "    cat(\"Probability\",p0)\n",
    "} else{\n",
    "    cat(\"Null Hypothesis rejected\",\"\\n\")\n",
    "    cat(\"Probability\",p0)\n",
    "}"
   ]
  },
  {
   "cell_type": "markdown",
   "metadata": {},
   "source": [
    "### EXERCISE 4"
   ]
  },
  {
   "cell_type": "markdown",
   "metadata": {},
   "source": [
    "I create the model, the likelihood of the process is a binomial distribution"
   ]
  },
  {
   "cell_type": "code",
   "execution_count": 18,
   "metadata": {
    "vscode": {
     "languageId": "r"
    }
   },
   "outputs": [],
   "source": [
    "modelString_uniform = \"\n",
    "data {\n",
    "  int<lower=0> N;\n",
    "  int y;      \n",
    "}\n",
    "parameters {\n",
    "  real<lower=0> theta; \n",
    "}\n",
    "model {\n",
    "  theta ~ beta(1,1);\n",
    "  y ~ binomial(N,theta);\n",
    "}\n",
    "\"\n",
    "\n"
   ]
  },
  {
   "cell_type": "markdown",
   "metadata": {},
   "source": [
    "I create the MCMC and extract the values from the stan fit"
   ]
  },
  {
   "cell_type": "code",
   "execution_count": 19,
   "metadata": {
    "vscode": {
     "languageId": "r"
    }
   },
   "outputs": [
    {
     "name": "stdout",
     "output_type": "stream",
     "text": [
      "\n",
      "SAMPLING FOR MODEL 'anon_model' NOW (CHAIN 1).\n",
      "Chain 1: Rejecting initial value:\n",
      "Chain 1:   Error evaluating the log probability at the initial value.\n",
      "Chain 1: Exception: beta_lpdf: Random variable is 1.07737, but must be in the interval [0, 1] (in 'string', line 9, column 2 to column 20)\n",
      "Chain 1: \n",
      "Chain 1: Gradient evaluation took 2.8e-05 seconds\n",
      "Chain 1: 1000 transitions using 10 leapfrog steps per transition would take 0.28 seconds.\n",
      "Chain 1: Adjust your expectations accordingly!\n",
      "Chain 1: \n",
      "Chain 1: \n",
      "Chain 1: Iteration:    1 / 8000 [  0%]  (Warmup)\n",
      "Chain 1: Iteration:  401 / 8000 [  5%]  (Sampling)\n",
      "Chain 1: Iteration: 1200 / 8000 [ 15%]  (Sampling)\n",
      "Chain 1: Iteration: 2000 / 8000 [ 25%]  (Sampling)\n",
      "Chain 1: Iteration: 2800 / 8000 [ 35%]  (Sampling)\n",
      "Chain 1: Iteration: 3600 / 8000 [ 45%]  (Sampling)\n",
      "Chain 1: Iteration: 4400 / 8000 [ 55%]  (Sampling)\n",
      "Chain 1: Iteration: 5200 / 8000 [ 65%]  (Sampling)\n",
      "Chain 1: Iteration: 6000 / 8000 [ 75%]  (Sampling)\n",
      "Chain 1: Iteration: 6800 / 8000 [ 85%]  (Sampling)\n",
      "Chain 1: Iteration: 7600 / 8000 [ 95%]  (Sampling)\n",
      "Chain 1: Iteration: 8000 / 8000 [100%]  (Sampling)\n",
      "Chain 1: \n",
      "Chain 1:  Elapsed Time: 0.059 seconds (Warm-up)\n",
      "Chain 1:                0.319 seconds (Sampling)\n",
      "Chain 1:                0.378 seconds (Total)\n",
      "Chain 1: \n"
     ]
    }
   ],
   "source": [
    "stanDso_uniform=stan_model(model_code = modelString_uniform)\n",
    "\n",
    "dataList1=list(N = 116, y = 11)\n",
    "\n",
    "stanFit_uniform1=sampling(object = stanDso_uniform,data = dataList1,chains = 1,iter = 8000,warmup = 400,thin = 1)\n",
    "posterior_samples_uniform1=extract(stanFit_uniform1)$theta\n",
    "\n",
    "post1=density(posterior_samples_uniform1)\n",
    "credInt1=quantile(posterior_samples_uniform1, probs = c(0.025, 0.975))"
   ]
  },
  {
   "cell_type": "code",
   "execution_count": 20,
   "metadata": {
    "vscode": {
     "languageId": "r"
    }
   },
   "outputs": [
    {
     "name": "stderr",
     "output_type": "stream",
     "text": [
      "Warning message in mean.default(post1):\n",
      "\"argument is not numeric or logical: returning NA\"\n"
     ]
    },
    {
     "name": "stdout",
     "output_type": "stream",
     "text": [
      "Posterior mean NA \n",
      "Credibility Interval 0.05420021 0.1644861 \n"
     ]
    },
    {
     "data": {
      "image/png": "[encoded data removed]",
      "text/plain": [
       "Plot with title \"Posterior\""
      ]
     },
     "metadata": {
      "image/png": {
       "height": 420,
       "width": 420
      }
     },
     "output_type": "display_data"
    }
   ],
   "source": [
    "plot(post1,col='blue',type='l',xlab='p',ylab='post',main='Posterior',xlim=c(0,0.4))\n",
    "\n",
    "abline(v=c(credInt1[1],credInt1[2]), lty=2, col=\"orange\", lwd=2)\n",
    "legend(\"topright\", legend = c(\"Posterior\", \"C.I.\"), col=c( \"Blue\", \"orange\"), lty=c(1, 2))\n",
    "cat(\"Posterior mean\",mean(post1),\"\\n\")\n",
    "cat(\"Credibility Interval\",credInt1,\"\\n\")\n"
   ]
  }
 ],
 "metadata": {
  "kernelspec": {
   "display_name": "R",
   "language": "R",
   "name": "ir"
  },
  "language_info": {
   "codemirror_mode": "r",
   "file_extension": ".r",
   "mimetype": "text/x-r-source",
   "name": "R",
   "pygments_lexer": "r",
   "version": "4.3.3"
  }
 },
 "nbformat": 4,
 "nbformat_minor": 2
}
