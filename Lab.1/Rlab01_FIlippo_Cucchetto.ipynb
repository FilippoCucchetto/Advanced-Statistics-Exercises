{
 "cells": [
  {
   "cell_type": "markdown",
   "metadata": {},
   "source": [
    "    ### LAB.1 \n",
    "\n",
    "Filippo Cucchetto 2110510"
   ]
  },
  {
   "cell_type": "markdown",
   "metadata": {},
   "source": [
    "I create a loop since all data is made with a common syntax \"JC-number-citibike-tripdata\", I save these dataframe as \"run\" \"number\" where number goes from 02 to 06"
   ]
  },
  {
   "cell_type": "code",
   "execution_count": 1,
   "metadata": {
    "vscode": {
     "languageId": "r"
    }
   },
   "outputs": [],
   "source": [
    "number_list= c(\"02\",\"03\",\"04\",\"05\",\"06\")\n",
    "n_file=paste(\"./JC-\", \"2019\", \"02\", \"-citibike-tripdata.csv\", sep=\"\")\n",
    "list_df=list()\n"
   ]
  },
  {
   "cell_type": "code",
   "execution_count": 2,
   "metadata": {
    "vscode": {
     "languageId": "r"
    }
   },
   "outputs": [],
   "source": [
    "i=1\n",
    "for (p in number_list){\n",
    "    #print(p)\n",
    "    n_file=paste(\"./JC-\",\"2019\",p,\"-citibike-tripdata.csv\",sep=\"\")\n",
    "    #print(n_file)\n",
    "    df_name=paste(\"run\",p,sep=\"\")\n",
    "    #print(df_name)\n",
    "    assign(df_name,read.csv(n_file))\n",
    "    list_df[[i]]=assign(df_name,read.csv(n_file))\n",
    "    i=i+1\n",
    "    }"
   ]
  },
  {
   "cell_type": "markdown",
   "metadata": {},
   "source": [
    "Now I merge dataframes into one dataframe called \"unique_df\""
   ]
  },
  {
   "cell_type": "code",
   "execution_count": 4,
   "metadata": {
    "vscode": {
     "languageId": "r"
    }
   },
   "outputs": [],
   "source": [
    "i=2\n",
    "unique_df=run02\n",
    "\n",
    "for (i in 2:5){\n",
    "    file_name=paste(\"run\",p,sep=\"\")\n",
    "    temp=list_df[[i]]\n",
    "    unique_df=rbind(unique_df,temp)\n",
    "    i=i+1\n",
    "    }"
   ]
  },
  {
   "cell_type": "markdown",
   "metadata": {},
   "source": [
    "4.1 I compute the mean and the median in minutes"
   ]
  },
  {
   "cell_type": "code",
   "execution_count": 5,
   "metadata": {
    "vscode": {
     "languageId": "r"
    }
   },
   "outputs": [
    {
     "name": "stdout",
     "output_type": "stream",
     "text": [
      "The mean of the tripduration is: 12 min\n",
      "The median of the tripduration is: 5 min\n"
     ]
    }
   ],
   "source": [
    "mean_df_trip=floor(mean(unique_df$\"tripduration\")/60)\n",
    "\n",
    "median_df_trip=floor(median(unique_df$\"tripduration\")/60)\n",
    "\n",
    "cat(\"The mean of the tripduration is:\",mean_df_trip,\"min\\n\")\n",
    "cat(\"The median of the tripduration is:\",median_df_trip,\"min\\n\")"
   ]
  },
  {
   "cell_type": "markdown",
   "metadata": {},
   "source": [
    "4.2 Minimum and maximumn tripduration"
   ]
  },
  {
   "cell_type": "code",
   "execution_count": 6,
   "metadata": {
    "vscode": {
     "languageId": "r"
    }
   },
   "outputs": [
    {
     "name": "stdout",
     "output_type": "stream",
     "text": [
      "The maximum of the tripduration is  28817 min\n",
      "The minimum of the tripduration is  1 min\n"
     ]
    }
   ],
   "source": [
    "max_df_trip=floor(max(unique_df$\"tripduration\")/60)\n",
    "min_df_trip=floor(min(unique_df$\"tripduration\")/60)\n",
    "\n",
    "cat(\"The maximum of the tripduration is \", max_df_trip,\"min\\n\")\n",
    "cat(\"The minimum of the tripduration is \", min_df_trip,\"min\\n\")"
   ]
  },
  {
   "cell_type": "markdown",
   "metadata": {},
   "source": [
    "The maximum value is definitely wrong, since it is almost 480 hours of biking.\n",
    "4.3 I scrimm the dataframe\n"
   ]
  },
  {
   "cell_type": "code",
   "execution_count": 7,
   "metadata": {
    "vscode": {
     "languageId": "r"
    }
   },
   "outputs": [],
   "source": [
    "three_hours=3*60*60\n",
    "filtered_df=unique_df[unique_df[\"tripduration\"] < three_hours, ]"
   ]
  },
  {
   "cell_type": "code",
   "execution_count": 8,
   "metadata": {
    "vscode": {
     "languageId": "r"
    }
   },
   "outputs": [
    {
     "name": "stdout",
     "output_type": "stream",
     "text": [
      "The mean of the tripduration is: 9 min\n",
      "The median of the tripduration is: 5 min\n",
      "The maximum of the tripduration is  10798 s\n",
      "The minimum of the tripduration is  61 s\n"
     ]
    }
   ],
   "source": [
    "\n",
    "f_mean_df_trip=floor(mean(filtered_df[[\"tripduration\"]])/60)\n",
    "\n",
    "f_median_df_trip=floor(median(filtered_df$\"tripduration\")/60)\n",
    "\n",
    "cat(\"The mean of the tripduration is:\",f_mean_df_trip,\"min\\n\")\n",
    "cat(\"The median of the tripduration is:\",f_median_df_trip,\"min\\n\")\n",
    "\n",
    "f_max_df_trip=(max(filtered_df$\"tripduration\"))\n",
    "f_min_df_trip=(min(filtered_df$\"tripduration\"))\n",
    "\n",
    "cat(\"The maximum of the tripduration is \", f_max_df_trip,\"s\\n\")\n",
    "cat(\"The minimum of the tripduration is \", f_min_df_trip,\"s\\n\")"
   ]
  },
  {
   "cell_type": "markdown",
   "metadata": {},
   "source": [
    "4.4 Trip Durations after the skimming"
   ]
  },
  {
   "cell_type": "code",
   "execution_count": 11,
   "metadata": {
    "vscode": {
     "languageId": "r"
    }
   },
   "outputs": [
    {
     "data": {
      "image/png": "[encoded data removed]",
      "text/plain": [
       "Plot with title \"Distribution of Trip Durations \""
      ]
     },
     "metadata": {
      "image/png": {
       "height": 420,
       "width": 420
      }
     },
     "output_type": "display_data"
    }
   ],
   "source": [
    "hist(filtered_df$tripduration ,col = \"skyblue\", border = \"black\",\n",
    "     xlab = \"Trip Duration [s]\", ylab = \"Frequency\",\n",
    "     main = \"Distribution of Trip Durations \")"
   ]
  },
  {
   "cell_type": "code",
   "execution_count": 12,
   "metadata": {
    "vscode": {
     "languageId": "r"
    }
   },
   "outputs": [],
   "source": [
    "i=1\n",
    "list_avg=list()\n",
    "for(run in list_df){\n",
    "    avg=floor(mean(run[[\"tripduration\"]])/60)\n",
    "    list_avg[[i]]=avg\n",
    "    i=i+1\n",
    "}"
   ]
  },
  {
   "cell_type": "code",
   "execution_count": 13,
   "metadata": {
    "vscode": {
     "languageId": "r"
    }
   },
   "outputs": [],
   "source": [
    "y=unlist(list_avg)\n",
    "x=c(\"February\",\"March\",\"April\",\"May\",\"June\")\n"
   ]
  },
  {
   "cell_type": "code",
   "execution_count": 14,
   "metadata": {
    "vscode": {
     "languageId": "r"
    }
   },
   "outputs": [
    {
     "data": {
      "image/png": "[encoded data removed]",
      "text/plain": [
       "Plot with title \"Average vs months\""
      ]
     },
     "metadata": {
      "image/png": {
       "height": 420,
       "width": 420
      }
     },
     "output_type": "display_data"
    }
   ],
   "source": [
    "plot(y, type = \"p\",pch=19, ylim = c(8, max(y)),col=\"blue\",xaxt = \"n\", xlab = \"Months\", ylab = \"Average\", main = \"Average vs months\")\n",
    "axis(1, at = 1:length(x), labels =x)\n",
    "axis(2, at = pretty(y), labels = pretty(y))\n",
    "grid(nx=NULL,ny=8,lty=1,col=\"gray\")"
   ]
  },
  {
   "cell_type": "markdown",
   "metadata": {},
   "source": [
    "6.1 Below I plot the rides per day "
   ]
  },
  {
   "cell_type": "markdown",
   "metadata": {},
   "source": [
    "I use the function \"weekdays\" to get the weekdays starting from the date present in the startitme column of the dataframe, then I create a table where I count each time that particular weekday is present inside the \"days\" variable"
   ]
  },
  {
   "cell_type": "code",
   "execution_count": 15,
   "metadata": {
    "vscode": {
     "languageId": "r"
    }
   },
   "outputs": [],
   "source": [
    "weekdays_list=c(\"Monday,Tuesday,Wendsday,Thursday,Friday,Saturday,Sunday\")\n",
    "dev_null=Sys.setlocale(\"LC_TIME\", \"english\") # print days in english\n",
    "days=weekdays(as.Date(unique_df[[\"starttime\"]]))\n",
    "counts_ofweekdays=table(days)\n"
   ]
  },
  {
   "cell_type": "code",
   "execution_count": 16,
   "metadata": {
    "vscode": {
     "languageId": "r"
    }
   },
   "outputs": [],
   "source": [
    "counts_ofweekdaysdf=as.data.frame(counts_ofweekdays) "
   ]
  },
  {
   "cell_type": "markdown",
   "metadata": {},
   "source": [
    "I reorder the dataframe according to the correct order of the  week. And I plot the Histogram of Frequency over days\n"
   ]
  },
  {
   "cell_type": "code",
   "execution_count": 17,
   "metadata": {
    "vscode": {
     "languageId": "r"
    }
   },
   "outputs": [
    {
     "data": {
      "image/png": "[encoded data removed]",
      "text/plain": [
       "plot without title"
      ]
     },
     "metadata": {
      "image/png": {
       "height": 420,
       "width": 420
      }
     },
     "output_type": "display_data"
    }
   ],
   "source": [
    "counts_ofweekdaysdf$days=ordered(counts_ofweekdaysdf$days, levels=c(\"Monday\", \"Tuesday\", \"Wednesday\", \"Thursday\", \n",
    "\"Friday\", \"Saturday\", \"Sunday\")) #reordering the dataframe according to (monday,tuesday etc.)\n",
    "\n",
    "library(ggplot2)\n",
    "\n",
    "days=factor(days, levels = c('Monday', 'Tuesday', 'Wednesday', 'Thursday', 'Friday', 'Saturday', 'Sunday'))\n",
    "a=ggplot(data=counts_ofweekdaysdf, aes(x=days, y=Freq)) +\n",
    "  geom_bar(stat=\"identity\",fill = \"blue\")+ theme_minimal()+ggtitle(\"Histogram of number of rides per day\")\n",
    "a"
   ]
  },
  {
   "cell_type": "markdown",
   "metadata": {},
   "source": [
    "6.2) plot the hourly distribution on weekdays and on weekends"
   ]
  },
  {
   "cell_type": "markdown",
   "metadata": {},
   "source": [
    "Using \"str_split_fixed\" I divide the column \"starttime\", into two new columns of the dataframe \"Day\" and \"Time\""
   ]
  },
  {
   "cell_type": "code",
   "execution_count": 21,
   "metadata": {
    "vscode": {
     "languageId": "r"
    }
   },
   "outputs": [],
   "source": [
    "library(stringr)\n",
    "unique_df[c(\"Day\",\"Time\")]=str_split_fixed(unique_df$starttime,\" \",2)\n"
   ]
  },
  {
   "cell_type": "markdown",
   "metadata": {},
   "source": [
    "Then I divide again the colum Time into three columns \"Hour\",\"Minutes\",\"Sec\" in this way I can easyly manipulate the data related to the hours. "
   ]
  },
  {
   "cell_type": "code",
   "execution_count": 22,
   "metadata": {
    "vscode": {
     "languageId": "r"
    }
   },
   "outputs": [],
   "source": [
    "new_unique_df=unique_df\n",
    "new_unique_df$Day=weekdays(as.Date(unique_df$Day))\n",
    "new_unique_df[c(\"Hour\",\"Minutes\",\"Sec\")]=str_split_fixed(unique_df$Time,\":\",3)"
   ]
  },
  {
   "cell_type": "markdown",
   "metadata": {},
   "source": [
    "I create two dataframes \"weekend_df\" and \"not_weekends_df\" and I filter them dropping out the not wanted days of the week"
   ]
  },
  {
   "cell_type": "code",
   "execution_count": 24,
   "metadata": {
    "vscode": {
     "languageId": "r"
    }
   },
   "outputs": [],
   "source": [
    "weekends_df=new_unique_df\n",
    "not_weekends_df=new_unique_df"
   ]
  },
  {
   "cell_type": "code",
   "execution_count": 25,
   "metadata": {
    "vscode": {
     "languageId": "r"
    }
   },
   "outputs": [],
   "source": [
    "weekends_df=dplyr::filter(weekends_df, Day==\"Saturday\" | Day==\"Sunday\")\n",
    "not_weekends_df=dplyr::filter(not_weekends_df, Day!=\"Saturday\" & Day!=\"Sunday\")"
   ]
  },
  {
   "cell_type": "code",
   "execution_count": 26,
   "metadata": {
    "vscode": {
     "languageId": "r"
    }
   },
   "outputs": [],
   "source": [
    "weekends_hours=as.data.frame(table(weekends_df$Hour))\n",
    "not_weekends_hours=as.data.frame(table(not_weekends_df$Hour))\n",
    "colnames(not_weekends_hours)[1]=\"Hour\"\n",
    "colnames(weekends_hours)[1]=\"Hour\""
   ]
  },
  {
   "cell_type": "code",
   "execution_count": 27,
   "metadata": {
    "vscode": {
     "languageId": "r"
    }
   },
   "outputs": [],
   "source": [
    "week_distribution=ggplot(data=not_weekends_hours, aes(x=Hour, y=Freq)) +\n",
    "  geom_bar(stat=\"identity\",fill = \"blue\")+ theme_minimal()+ggtitle(\"Hourly distribution from Monday to Friday\")"
   ]
  },
  {
   "cell_type": "code",
   "execution_count": 28,
   "metadata": {
    "vscode": {
     "languageId": "r"
    }
   },
   "outputs": [
    {
     "data": {
      "image/png": "[encoded data removed]",
      "text/plain": [
       "plot without title"
      ]
     },
     "metadata": {
      "image/png": {
       "height": 420,
       "width": 420
      }
     },
     "output_type": "display_data"
    }
   ],
   "source": [
    "week_distribution"
   ]
  },
  {
   "cell_type": "code",
   "execution_count": 29,
   "metadata": {
    "vscode": {
     "languageId": "r"
    }
   },
   "outputs": [
    {
     "data": {
      "image/png": "[encoded data removed]",
      "text/plain": [
       "plot without title"
      ]
     },
     "metadata": {
      "image/png": {
       "height": 420,
       "width": 420
      }
     },
     "output_type": "display_data"
    }
   ],
   "source": [
    "weekend_distribution=ggplot(data=weekends_hours, aes(x=Hour, y=Freq)) +\n",
    "  geom_bar(stat=\"identity\",fill = \"blue\")+ theme_minimal()+ggtitle(\"Hourly distribution on weekends\")\n",
    "weekend_distribution"
   ]
  },
  {
   "cell_type": "markdown",
   "metadata": {},
   "source": [
    "6.3) plot again the average hourly distribution on weekdays but separating customer and subscriber\n",
    "users"
   ]
  },
  {
   "cell_type": "code",
   "execution_count": 30,
   "metadata": {
    "vscode": {
     "languageId": "r"
    }
   },
   "outputs": [],
   "source": [
    "customer_df=new_unique_df\n",
    "subscriber_df=new_unique_df\n",
    "#filtro tra customer e subscriber\n",
    "customer_df=dplyr::filter(customer_df,usertype==\"Customer\")\n",
    "subscriber_df=dplyr::filter(subscriber_df,usertype==\"Subscriber\")\n",
    "#filtro tra weekdays e weekends\n",
    "customer_df=dplyr::filter(customer_df,Day!=\"Saturday\" & Day!=\"Sunday\")\n",
    "subscriber_df=dplyr::filter(subscriber_df,Day!=\"Saturday\" & Day!=\"Sunday\")\n",
    "#conto\n",
    "customer_hours=as.data.frame(table(customer_df$Hour))\n",
    "subscriber_hours=as.data.frame(table(subscriber_df$Hour))\n",
    "colnames(customer_hours)[1]=\"Hour\"\n",
    "colnames(subscriber_hours)[1]=\"Hour\""
   ]
  },
  {
   "cell_type": "code",
   "execution_count": 31,
   "metadata": {
    "vscode": {
     "languageId": "r"
    }
   },
   "outputs": [
    {
     "data": {
      "image/png": "[encoded data removed]",
      "text/plain": [
       "plot without title"
      ]
     },
     "metadata": {
      "image/png": {
       "height": 420,
       "width": 420
      }
     },
     "output_type": "display_data"
    }
   ],
   "source": [
    "customer_plot=ggplot(data=customer_hours, aes(x=Hour, y=Freq)) +\n",
    "  geom_bar(stat=\"identity\",fill = \"#ff8c00\")+ theme_minimal()+ggtitle(\"Hourly distribution of customers\")\n",
    "customer_plot"
   ]
  },
  {
   "cell_type": "code",
   "execution_count": 32,
   "metadata": {
    "vscode": {
     "languageId": "r"
    }
   },
   "outputs": [
    {
     "data": {
      "image/png": "[encoded data removed]",
      "text/plain": [
       "plot without title"
      ]
     },
     "metadata": {
      "image/png": {
       "height": 420,
       "width": 420
      }
     },
     "output_type": "display_data"
    }
   ],
   "source": [
    "subscriber_plot=ggplot(data=subscriber_hours, aes(x=Hour, y=Freq)) +\n",
    "  geom_bar(stat=\"identity\",fill = \"#ff8c00\")+ theme_minimal()+ggtitle(\"Hourly distribution of subscribers\")\n",
    "subscriber_plot  "
   ]
  },
  {
   "cell_type": "markdown",
   "metadata": {},
   "source": [
    "7.1) using the latitude and longitude information, evaluate the average speed (in km/h) of a user,discarding the trip lasting longer than 1 hour"
   ]
  },
  {
   "cell_type": "markdown",
   "metadata": {},
   "source": [
    "First I filter my dataframe dropping the trips longer than 1 hour"
   ]
  },
  {
   "cell_type": "code",
   "execution_count": 33,
   "metadata": {
    "vscode": {
     "languageId": "r"
    }
   },
   "outputs": [],
   "source": [
    "one_hour_df=new_unique_df\n",
    "one_hour_df=dplyr::filter(one_hour_df,tripduration<60*60)\n"
   ]
  },
  {
   "cell_type": "markdown",
   "metadata": {},
   "source": [
    "Then using distHaversine function I compute the distance between the starting station and the end station"
   ]
  },
  {
   "cell_type": "code",
   "execution_count": 34,
   "metadata": {
    "vscode": {
     "languageId": "r"
    }
   },
   "outputs": [],
   "source": [
    "library(geosphere)\n",
    "one_hour_df$dist=(distHaversine(cbind(one_hour_df$start.station.latitude,one_hour_df$start.station.longitude),\n",
    "cbind(one_hour_df$end.station.latitude,one_hour_df$end.station.longitude)))"
   ]
  },
  {
   "cell_type": "markdown",
   "metadata": {},
   "source": [
    "I compute the velocity and  I create a new column in the \"one_hour_df\" in which I add all the velocities"
   ]
  },
  {
   "cell_type": "code",
   "execution_count": 36,
   "metadata": {
    "vscode": {
     "languageId": "r"
    }
   },
   "outputs": [],
   "source": [
    "one_hour_df$velocity=velocity=one_hour_df$dist/one_hour_df$tripduration"
   ]
  },
  {
   "cell_type": "markdown",
   "metadata": {},
   "source": [
    "7.2) plot the average speed as a function of route length for the following group of distances d <500 m,\n",
    "500 m <d <1000 m, 1000 m <d <2000 m, 2000 m <d <3000 m, d >3000 m and discarding\n",
    "trips longer than 1 hour"
   ]
  },
  {
   "cell_type": "markdown",
   "metadata": {},
   "source": [
    "For a given distance I compute the average speed and save it in a list called \"velocities\". Also I use \"unique\" method to take every possible values of distances between starting point and ending point one time only"
   ]
  },
  {
   "cell_type": "code",
   "execution_count": 38,
   "metadata": {
    "vscode": {
     "languageId": "r"
    }
   },
   "outputs": [],
   "source": [
    "distances=(unique(one_hour_df$dist))  \n",
    "velocities=list()\n",
    "j=1\n",
    "for(i in distances){\n",
    "    temp_df=dplyr::filter(one_hour_df,dist==i)\n",
    "    avg_velocity=mean(temp_df$velocity)\n",
    "    velocities[[j]]=avg_velocity\n",
    "    j=j+1\n",
    "}"
   ]
  },
  {
   "cell_type": "markdown",
   "metadata": {},
   "source": [
    "I create a dataframe of distances and velocities"
   ]
  },
  {
   "cell_type": "code",
   "execution_count": 39,
   "metadata": {
    "vscode": {
     "languageId": "r"
    }
   },
   "outputs": [],
   "source": [
    "dist_vel_df=data.frame(dist=distances,average_velocity=unlist(velocities))"
   ]
  },
  {
   "cell_type": "code",
   "execution_count": 40,
   "metadata": {
    "vscode": {
     "languageId": "r"
    }
   },
   "outputs": [],
   "source": [
    "df_500=dplyr::filter(dist_vel_df,dist_vel_df$dist<500)\n",
    "df_500_1000=dplyr::filter(dist_vel_df,dist_vel_df$dist>500 & dist_vel_df$dist<1000)\n",
    "df_1000_2000=dplyr::filter(dist_vel_df,dist_vel_df$dist>1000 & dist_vel_df$dist<2000)\n",
    "df_2000_3000=dplyr::filter(dist_vel_df,dist_vel_df$dist>2000 & dist_vel_df$dist<3000)\n",
    "df_3000=dplyr::filter(dist_vel_df,dist_vel_df$dist>3000)"
   ]
  },
  {
   "cell_type": "markdown",
   "metadata": {},
   "source": [
    "Below I report the plots:"
   ]
  },
  {
   "cell_type": "code",
   "execution_count": 41,
   "metadata": {
    "vscode": {
     "languageId": "r"
    }
   },
   "outputs": [],
   "source": [
    "colnames(df_500)[2]=\"average_velocity\"\n",
    "colnames(df_500_1000)[2]=\"average_velocity\"\n",
    "colnames(df_1000_2000)[2]=\"average_velocity\"\n",
    "colnames(df_2000_3000)[2]=\"average_velocity\"\n",
    "colnames(df_3000)[2]=\"average_velocity\""
   ]
  },
  {
   "cell_type": "code",
   "execution_count": 46,
   "metadata": {
    "vscode": {
     "languageId": "r"
    }
   },
   "outputs": [
    {
     "name": "stderr",
     "output_type": "stream",
     "text": [
      "\u001b[1m\u001b[22mScale for \u001b[32my\u001b[39m is already present.\n",
      "Adding another scale for \u001b[32my\u001b[39m, which will replace the existing scale.\n"
     ]
    }
   ],
   "source": [
    "a=ggplot(df_500, aes(x=dist, y=average_velocity)) + geom_point() +theme_minimal() +   scale_y_continuous(breaks = seq(min(df_500$average_velocity), max(df_500$average_velocity), by = 0.3))+ggtitle(\"Velocities vs Distances from 0 to 500\")+ xlab(\"Distances [m]\")\n",
    "b=ggplot(df_1000_2000, aes(x=dist,y=average_velocity))+ geom_point() +theme_minimal() +   scale_y_continuous(breaks = seq(min(df_500_1000$average_velocity), max(df_500_1000$average_velocity), by = 0.3))+ggtitle(\"Velocities vs Distances from 500 to 1000\")+ xlab(\"Distances [m]\")\n",
    "c=ggplot(df_2000_3000, aes(x=dist,y=average_velocity))+ geom_point() +theme_minimal() +   scale_y_continuous(breaks = seq(min(df_1000_2000$average_velocity), max(df_1000_2000$average_velocity), by = 0.3))+ggtitle(\"Velocities vs Distances from 1000 to 2000\")+ xlab(\"Distances [m]\")\n",
    "d=ggplot(df_2000_3000, aes(x=dist,y=average_velocity))+ geom_point()+theme_minimal() +   scale_y_continuous(breaks = seq(min(df_2000_3000$average_velocity), max(df_2000_3000$average_velocity), by = 0.3))+ggtitle(\"Velocities vs Distances from 2000 to 3000\")+ xlab(\"Distances [m]\")\n",
    "e=ggplot(df_3000, aes(x=dist,y=average_velocity))+ geom_point() +theme_minimal() +   scale_y_continuous(breaks = seq(min(df_3000$average_velocity), max(df_3000$average_velocity), by = 0.3))+xlim(2500,7500)+ylim(1,8)+ggtitle(\"Velocities vs Distances from 3000\")+ xlab(\"Distances [m]\")\n"
   ]
  },
  {
   "cell_type": "code",
   "execution_count": 45,
   "metadata": {
    "vscode": {
     "languageId": "r"
    }
   },
   "outputs": [
    {
     "data": {
      "image/png": "[encoded data removed]",
      "text/plain": [
       "plot without title"
      ]
     },
     "metadata": {
      "image/png": {
       "height": 420,
       "width": 420
      }
     },
     "output_type": "display_data"
    }
   ],
   "source": [
    "a"
   ]
  },
  {
   "cell_type": "code",
   "execution_count": 47,
   "metadata": {
    "vscode": {
     "languageId": "r"
    }
   },
   "outputs": [
    {
     "data": {
      "image/png": "[encoded data removed]",
      "text/plain": [
       "plot without title"
      ]
     },
     "metadata": {
      "image/png": {
       "height": 420,
       "width": 420
      }
     },
     "output_type": "display_data"
    }
   ],
   "source": [
    "b"
   ]
  },
  {
   "cell_type": "code",
   "execution_count": 48,
   "metadata": {
    "vscode": {
     "languageId": "r"
    }
   },
   "outputs": [
    {
     "data": {
      "image/png": "[encoded data removed]",
      "text/plain": [
       "plot without title"
      ]
     },
     "metadata": {
      "image/png": {
       "height": 420,
       "width": 420
      }
     },
     "output_type": "display_data"
    }
   ],
   "source": [
    "c"
   ]
  },
  {
   "cell_type": "code",
   "execution_count": 49,
   "metadata": {
    "vscode": {
     "languageId": "r"
    }
   },
   "outputs": [
    {
     "data": {
      "image/png": "[encoded data removed]",
      "text/plain": [
       "plot without title"
      ]
     },
     "metadata": {
      "image/png": {
       "height": 420,
       "width": 420
      }
     },
     "output_type": "display_data"
    }
   ],
   "source": [
    "d"
   ]
  },
  {
   "cell_type": "code",
   "execution_count": 50,
   "metadata": {
    "vscode": {
     "languageId": "r"
    }
   },
   "outputs": [
    {
     "name": "stderr",
     "output_type": "stream",
     "text": [
      "Warning message:\n",
      "\"\u001b[1m\u001b[22mRemoved 3 rows containing missing values or values outside the scale range\n",
      "(`geom_point()`).\"\n"
     ]
    },
    {
     "data": {
      "image/png": "[encoded data removed]",
      "text/plain": [
       "plot without title"
      ]
     },
     "metadata": {
      "image/png": {
       "height": 420,
       "width": 420
      }
     },
     "output_type": "display_data"
    }
   ],
   "source": [
    "e"
   ]
  },
  {
   "cell_type": "markdown",
   "metadata": {},
   "source": [
    "7.3) Repeat the same graph, but show the results obtained separately for weekdays and weekends"
   ]
  },
  {
   "cell_type": "markdown",
   "metadata": {},
   "source": [
    "I start with weekends\n"
   ]
  },
  {
   "cell_type": "code",
   "execution_count": 51,
   "metadata": {
    "vscode": {
     "languageId": "r"
    }
   },
   "outputs": [
    {
     "name": "stderr",
     "output_type": "stream",
     "text": [
      "\u001b[1m\u001b[22mScale for \u001b[32my\u001b[39m is already present.\n",
      "Adding another scale for \u001b[32my\u001b[39m, which will replace the existing scale.\n"
     ]
    }
   ],
   "source": [
    "week_end_df=dplyr::filter(one_hour_df,Day==\"Saturday\" | Day==\"Sunday\")\n",
    "\n",
    "distances=(unique((week_end_df$dist)))\n",
    "velocities=list()\n",
    "j=1\n",
    "for(i in distances){\n",
    "    temp_df=dplyr::filter(week_end_df,dist==i)\n",
    "    avg_velocity=mean(temp_df$velocity)\n",
    "    velocities[[j]]=avg_velocity\n",
    "    j=j+1\n",
    "}\n",
    "dist_vel_df=data.frame(dist=distances,average_velocity=unlist(velocities))\n",
    "\n",
    "df_500=dplyr::filter(dist_vel_df,dist_vel_df$dist<500)\n",
    "df_500_1000=dplyr::filter(dist_vel_df,dist_vel_df$dist>500 & dist_vel_df$dist<1000)\n",
    "df_1000_2000=dplyr::filter(dist_vel_df,dist_vel_df$dist>1000 & dist_vel_df$dist<2000)\n",
    "df_2000_3000=dplyr::filter(dist_vel_df,dist_vel_df$dist>2000 & dist_vel_df$dist<3000)\n",
    "df_3000=dplyr::filter(dist_vel_df,dist_vel_df$dist>3000)\n",
    "\n",
    "colnames(df_500)[2]=\"average_velocity\"\n",
    "colnames(df_500_1000)[2]=\"average_velocity\"\n",
    "colnames(df_1000_2000)[2]=\"average_velocity\"\n",
    "colnames(df_2000_3000)[2]=\"average_velocity\"\n",
    "colnames(df_3000)[2]=\"average_velocity\"\n",
    "\n",
    "weekend_a=ggplot(df_500, aes(x=dist, y=average_velocity)) + geom_point() +theme_minimal() +   scale_y_continuous(breaks = seq(min(df_500$average_velocity), max(df_500$average_velocity), by = 0.3))+ggtitle(\"Velocities vs Distances from 0 to 500\")+ xlab(\"Distances [m]\")\n",
    "weekend_b=ggplot(df_1000_2000, aes(x=dist,y=average_velocity))+ geom_point() +theme_minimal() +   scale_y_continuous(breaks = seq(min(df_500_1000$average_velocity), max(df_500_1000$average_velocity), by = 0.3))+ggtitle(\"Velocities vs Distances from 500 to 1000\")+ xlab(\"Distances [m]\")\n",
    "weekend_c=ggplot(df_2000_3000, aes(x=dist,y=average_velocity))+ geom_point() +theme_minimal() +   scale_y_continuous(breaks = seq(min(df_1000_2000$average_velocity), max(df_1000_2000$average_velocity), by = 0.3))+ggtitle(\"Velocities vs Distances from 1000 to 2000\")+ xlab(\"Distances [m]\")\n",
    "weekend_d=ggplot(df_2000_3000, aes(x=dist,y=average_velocity))+ geom_point()+theme_minimal() +   scale_y_continuous(breaks = seq(min(df_2000_3000$average_velocity), max(df_2000_3000$average_velocity), by = 0.3))+ggtitle(\"Velocities vs Distances from 2000 to 3000\")+ xlab(\"Distances [m]\")\n",
    "weekend_e=ggplot(df_3000, aes(x=dist,y=average_velocity))+ geom_point() +theme_minimal() +   scale_y_continuous(breaks = seq(min(df_3000$average_velocity), max(df_3000$average_velocity), by = 0.3))+xlim(2500,7500)+ylim(1,8)+ggtitle(\"Velocities vs Distances from 3000\")+ xlab(\"Distances [m]\")\n"
   ]
  },
  {
   "cell_type": "code",
   "execution_count": 52,
   "metadata": {
    "vscode": {
     "languageId": "r"
    }
   },
   "outputs": [
    {
     "data": {
      "image/png": "[encoded data removed]",
      "text/plain": [
       "plot without title"
      ]
     },
     "metadata": {
      "image/png": {
       "height": 420,
       "width": 420
      }
     },
     "output_type": "display_data"
    }
   ],
   "source": [
    "weekend_a"
   ]
  },
  {
   "cell_type": "code",
   "execution_count": 53,
   "metadata": {
    "vscode": {
     "languageId": "r"
    }
   },
   "outputs": [
    {
     "name": "stderr",
     "output_type": "stream",
     "text": [
      "\u001b[1m\u001b[22mScale for \u001b[32my\u001b[39m is already present.\n",
      "Adding another scale for \u001b[32my\u001b[39m, which will replace the existing scale.\n"
     ]
    }
   ],
   "source": [
    "not_week_end_df=dplyr::filter(one_hour_df,Day!=\"Saturday\" & Day!=\"Sunday\")\n",
    "\n",
    "distances=(unique((not_week_end_df$dist)))\n",
    "velocities=list()\n",
    "j=1\n",
    "for(i in distances){\n",
    "    temp_df=dplyr::filter(not_week_end_df,dist==i)\n",
    "    avg_velocity=mean(temp_df$velocity)\n",
    "    velocities[[j]]=avg_velocity\n",
    "    j=j+1\n",
    "}\n",
    "dist_vel_df=data.frame(dist=distances,average_velocity=unlist(velocities))\n",
    "\n",
    "df_500=dplyr::filter(dist_vel_df,dist_vel_df$dist<500)\n",
    "df_500_1000=dplyr::filter(dist_vel_df,dist_vel_df$dist>500 & dist_vel_df$dist<1000)\n",
    "df_1000_2000=dplyr::filter(dist_vel_df,dist_vel_df$dist>1000 & dist_vel_df$dist<2000)\n",
    "df_2000_3000=dplyr::filter(dist_vel_df,dist_vel_df$dist>2000 & dist_vel_df$dist<3000)\n",
    "df_3000=dplyr::filter(dist_vel_df,dist_vel_df$dist>3000)\n",
    "\n",
    "colnames(df_500)[2]=\"average_velocity\"\n",
    "colnames(df_500_1000)[2]=\"average_velocity\"\n",
    "colnames(df_1000_2000)[2]=\"average_velocity\"\n",
    "colnames(df_2000_3000)[2]=\"average_velocity\"\n",
    "colnames(df_3000)[2]=\"average_velocity\"\n",
    "a=ggplot(df_500, aes(x=dist, y=average_velocity)) + geom_point() +theme_minimal() +   scale_y_continuous(breaks = seq(min(df_500$average_velocity), max(df_500$average_velocity), by = 0.3))+ggtitle(\"Velocities vs Distances from 0 to 500\")\n",
    "b=ggplot(df_1000_2000, aes(x=dist,y=average_velocity))+ geom_point() +theme_minimal() +   scale_y_continuous(breaks = seq(min(df_500_1000$average_velocity), max(df_500_1000$average_velocity), by = 0.3))+ggtitle(\"Velocities vs Distances from 500 to 1000\")\n",
    "c=ggplot(df_2000_3000, aes(x=dist,y=average_velocity))+ geom_point() +theme_minimal() +   scale_y_continuous(breaks = seq(min(df_1000_2000$average_velocity), max(df_1000_2000$average_velocity), by = 0.3))+ggtitle(\"Velocities vs Distances from 1000 to 2000\")\n",
    "d=ggplot(df_2000_3000, aes(x=dist,y=average_velocity))+ geom_point()+theme_minimal() +   scale_y_continuous(breaks = seq(min(df_2000_3000$average_velocity), max(df_2000_3000$average_velocity), by = 0.3))+ggtitle(\"Velocities vs Distances from 2000 to 3000\")\n",
    "e=ggplot(df_3000, aes(x=dist,y=average_velocity))+ geom_point() +theme_minimal() +   scale_y_continuous(breaks = seq(min(df_3000$average_velocity), max(df_3000$average_velocity), by = 0.3))+xlim(2500,7500)+ylim(1,8)+ggtitle(\"Velocities vs Distances from 3000\")\n"
   ]
  },
  {
   "cell_type": "code",
   "execution_count": 54,
   "metadata": {
    "vscode": {
     "languageId": "r"
    }
   },
   "outputs": [
    {
     "data": {
      "image/png": "[encoded data removed]",
      "text/plain": [
       "plot without title"
      ]
     },
     "metadata": {
      "image/png": {
       "height": 420,
       "width": 420
      }
     },
     "output_type": "display_data"
    }
   ],
   "source": [
    "a"
   ]
  },
  {
   "cell_type": "markdown",
   "metadata": {},
   "source": [
    "8.1) find the most common start station and the least popular end station"
   ]
  },
  {
   "cell_type": "markdown",
   "metadata": {},
   "source": [
    "I use the  \"names\" function to get the station name associated with the minimum (or maximum) count of occurrences in the corresponding column.\""
   ]
  },
  {
   "cell_type": "code",
   "execution_count": 56,
   "metadata": {
    "vscode": {
     "languageId": "r"
    }
   },
   "outputs": [
    {
     "name": "stdout",
     "output_type": "stream",
     "text": [
      "The most common start station is: Grove St PATH \n",
      "The least favorite end station is: 1 Ave & E 16 St \n"
     ]
    }
   ],
   "source": [
    "\n",
    "max_station=names(which.max(table(unique_df$start.station.name)))\n",
    "\n",
    "cat(\"The most common start station is:\",max_station, \"\\n\")\n",
    "\n",
    "min_end_station=names(which.min(table(unique_df$end.station.name)))\n",
    "\n",
    "cat(\"The least favorite end station is:\",min_end_station, \"\\n\")"
   ]
  },
  {
   "cell_type": "markdown",
   "metadata": {},
   "source": [
    "8.2) show the distribution of start stations"
   ]
  },
  {
   "cell_type": "code",
   "execution_count": 57,
   "metadata": {
    "vscode": {
     "languageId": "r"
    }
   },
   "outputs": [],
   "source": [
    "startstations=as.data.frame(table(unique_df$start.station.name))\n",
    "\n",
    "endstations=as.data.frame(table(unique_df$end.station.name))\n",
    "\n",
    "colnames(startstations)[1]=\"Start_station_name\"\n",
    "colnames(endstations)[1]=\"End_station_name\"\n"
   ]
  },
  {
   "cell_type": "code",
   "execution_count": 58,
   "metadata": {
    "vscode": {
     "languageId": "r"
    }
   },
   "outputs": [
    {
     "data": {
      "image/png": "[encoded data removed]",
      "text/plain": [
       "plot without title"
      ]
     },
     "metadata": {
      "image/png": {
       "height": 420,
       "width": 420
      }
     },
     "output_type": "display_data"
    }
   ],
   "source": [
    "plot_startstations=ggplot(data=startstations, aes(x=Start_station_name, y=Freq)) +\n",
    "  geom_bar(stat=\"identity\",fill = \"#ff8c00\")+ theme_minimal()+ggtitle(\"Start station distribution\")+theme(axis.text.x=element_text(angle = 90, vjust = 0.5))\n",
    "\n",
    "plot_startstations"
   ]
  },
  {
   "cell_type": "markdown",
   "metadata": {},
   "source": [
    "8.3) find the three most common routes (start and end station) and the three least popular ones"
   ]
  },
  {
   "cell_type": "code",
   "execution_count": 60,
   "metadata": {
    "vscode": {
     "languageId": "r"
    }
   },
   "outputs": [
    {
     "name": "stdout",
     "output_type": "stream",
     "text": [
      "The three most common paths(from the most favorite) are  \n",
      " Hamilton Park to Grove St PATH \n",
      " Grove St PATH to Hamilton Park \n",
      " Brunswick & 6th to Grove St PATH \n",
      "The three least common  paths (from the least favorite ) are:) \n",
      " York St to Lincoln Park \n",
      " York St to Communipaw & Berry Lane \n",
      " York St to Brunswick & 6th \n"
     ]
    }
   ],
   "source": [
    "unique_df[\"start_end\"]=paste(unique_df$start.station.name,\"to\",unique_df$end.station.name)\n",
    "\n",
    "path_counts=table(unique_df[\"start_end\"])\n",
    "sort_path=sort(path_counts, decreasing = TRUE)\n",
    "\n",
    "cat(\"The three most common paths(from the most favorite) are \",\"\\n\",names(sort_path[1]),\"\\n\",names(sort_path[2]),\"\\n\",names(sort_path[3]),\"\\n\")\n",
    "cat(\"The three least common  paths (from the least favorite ) are:)\",\"\\n\",names(sort_path[length(sort_path)]),\"\\n\",names(sort_path[length(sort_path)-1]),\"\\n\",names(sort_path[length(sort_path)-2]),\"\\n\")\n",
    "\n"
   ]
  },
  {
   "cell_type": "code",
   "execution_count": null,
   "metadata": {
    "vscode": {
     "languageId": "r"
    }
   },
   "outputs": [],
   "source": [
    "#Just for test\n",
    "#THIS PART OF CODE MAKES AN HISTOGRAM FOR EACH MONTH OF NUMBERS OF RIDES FOR THAT PARTICULAR DAY\n",
    "\n",
    "'''\n",
    "i=1\n",
    "listofcounts=list()\n",
    "j=1\n",
    "for(run in list_df){\n",
    "    list_of_days=list()\n",
    "    for(i in 1:nrow(run)){\n",
    "        s=(run[[\"starttime\"]][i])\n",
    "        xstring=unlist(strsplit(s,split=\" \"))\n",
    "        day_string <- unlist(strsplit(xstring[1],split=\"-\")) #anno,mese,giorno\n",
    "        list_of_days[[i]]=((day_string[3]))\n",
    "        print(as.numeric(day_string[3]))\n",
    "        }\n",
    "    list_of_days=unlist(list_of_days)\n",
    "    run[\"Day\"]=list_of_days\n",
    "    listofcounts[[j]]=as.data.frame(table(run[\"Day\"]))\n",
    "    j=j+1\n",
    "}\n",
    "\n",
    "library(ggplot2)\n",
    "# Basic barplot\n",
    "a=ggplot(data=listofcounts[[1]], aes(x=Day, y=Freq)) +\n",
    "  geom_bar(stat=\"identity\",fill = \"blue\")+ ggtitle(\"February\")+ theme_minimal()\n",
    "b=ggplot(data=listofcounts[[2]], aes(x=Day, y=Freq)) + \n",
    "  geom_bar(stat=\"identity\",fill = \"blue\")+ ggtitle(\"March\")+ theme_minimal()\n",
    "c=ggplot(data=listofcounts[[3]], aes(x=Day, y=Freq)) +\n",
    "  geom_bar(stat=\"identity\",fill = \"blue\")+ ggtitle(\"April\")+ theme_minimal()\n",
    "d=ggplot(data=listofcounts[[4]], aes(x=Day, y=Freq)) +\n",
    "  geom_bar(stat=\"identity\",fill = \"blue\")+ ggtitle(\"May\")+ theme_minimal()\n",
    "e=ggplot(data=listofcounts[[5]], aes(x=Day, y=Freq)) +\n",
    "  geom_bar(stat=\"identity\",fill = \"blue\")+ ggtitle(\"June\")+ theme_minimal()\n",
    "\n",
    "a\n",
    "b\n",
    "c\n",
    "barplot(listofcounts[[1]], main = \"February\", xlab = \"Days\", ylab = \"Frequency\",col=\"\")\n",
    "barplot(listofcounts[[2]], main = \"March\", xlab = \"Days\", ylab = \"Frequency\",col=\"lightblue1\")\n",
    "barplot(listofcounts[[3]], main = \"April\", xlab = \"Days\", ylab = \"Frequency\",col=\"lightblue1\")\n",
    "barplot(listofcounts[[4]], main = \"May\", xlab = \"Days\", ylab = \"Frequency\",col=\"lightblue1\")\n",
    "barplot(listofcounts[[5]], main = \"June\", xlab = \"Days\", ylab = \"Frequency\",col=\"lightblue1\")\n",
    "\n",
    "d\n",
    "e\n",
    "'''"
   ]
  }
 ],
 "metadata": {
  "kernelspec": {
   "display_name": "R",
   "language": "R",
   "name": "ir"
  },
  "language_info": {
   "codemirror_mode": "r",
   "file_extension": ".r",
   "mimetype": "text/x-r-source",
   "name": "R",
   "pygments_lexer": "r",
   "version": "4.3.3"
  }
 },
 "nbformat": 4,
 "nbformat_minor": 2
}
