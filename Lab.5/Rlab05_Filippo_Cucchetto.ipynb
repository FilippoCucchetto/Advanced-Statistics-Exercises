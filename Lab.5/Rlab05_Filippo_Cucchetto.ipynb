{
 "cells": [
  {
   "cell_type": "markdown",
   "metadata": {},
   "source": [
    "### LAB.5\n"
   ]
  },
  {
   "cell_type": "markdown",
   "metadata": {},
   "source": [
    "Filippo Cucchetto(matr. 2110510)"
   ]
  },
  {
   "cell_type": "markdown",
   "metadata": {},
   "source": [
    "### Ex.1"
   ]
  },
  {
   "cell_type": "markdown",
   "metadata": {},
   "source": [
    "Draw a Markov Chain from the posterior distribution using a Metropolis-Hastings algorithm, use a Norm (0,1) as random-walk candidate density"
   ]
  },
  {
   "cell_type": "code",
   "execution_count": null,
   "metadata": {
    "vscode": {
     "languageId": "r"
    }
   },
   "outputs": [],
   "source": [
    "metropolis.1dm=function(func,theta.init,n.sample,sigma){\n",
    "    theta.cur=theta.init\n",
    "    func.Cur=func(theta.cur)\n",
    "    func.Samp=matrix(data=NA,nrow=n.sample,ncol=2+1)\n",
    "    n.accept=0\n",
    "    rate.accept=0.0\n",
    "    for(n in 1:n.sample){\n",
    "        theta.prop=rnorm(n=1,mean=0,sigma)\n",
    "        func.Prop=func(theta.prop)\n",
    "        logMR=func.Prop-func.Cur \n",
    "\n",
    "        if(logMR>=0 || logMR>log10(runif(1))){\n",
    "\n",
    "            theta.cur=theta.prop\n",
    "            func.Cur=func.Prop\n",
    "            n.accept=n.accept+1\n",
    "        }\n",
    "        func.Samp[n,1]=func.Cur\n",
    "        func.Samp[n,2]=theta.cur\n",
    "        }\n",
    "    return(func.Samp)\n",
    "    }\n",
    "\n",
    "posterior=function(theta){\n",
    "    return(0.5*exp((-1*((theta+3))^2)/2)+0.5*exp((-1*((theta-3)^2))/2))\n",
    "}\n",
    "post.metropolis=function(theta){\n",
    "    return(log10(posterior(theta)))\n",
    "}\n",
    "theta.init=-5\n",
    "sample.sig=1\n",
    "n.sample=10^5\n",
    "demo=TRUE\n",
    "set.seed(20190513)\n",
    "chain=metropolis.1dm(func=post.metropolis,theta.init=theta.init,n.sample=n.sample,sigma=sample.sig^2)\n",
    "z=chain[,2]"
   ]
  },
  {
   "cell_type": "markdown",
   "metadata": {},
   "source": [
    "plot the sampled distribution"
   ]
  },
  {
   "cell_type": "code",
   "execution_count": null,
   "metadata": {
    "vscode": {
     "languageId": "r"
    }
   },
   "outputs": [],
   "source": [
    "x=seq(-50, 50, length.out=10^4)\n",
    "y=posterior(x)\n",
    "ymax=1.05 * max(y)\n",
    "plot(x, y, ylim=c(0,max(y)*1.10),type='l',lty=2,col='blue')\n",
    "sa=which(z>=min(x) & z<=max(x))\n",
    "hist=hist(z[sa], breaks=seq(from=min(x), to=max(x),length.out=100), plot=FALSE)\n",
    "# Compute normalization function: used later to put on same as histogram\n",
    "Zfunc=sum(y)*diff(range(x))/(length(x))\n",
    " \n",
    "Zhist=sum(hist$counts)*diff(range(hist$breaks))/(length(hist$counts))\n",
    "lines(hist$breaks, c(hist$counts*Zfunc/Zhist,0),col='navy', type=\"s\", lwd=2, lty=5)\n",
    "leg.labels = c('analytical', 'MCMC')\n",
    "leg.ltype = c(1, 5)\n",
    "leg.colors = c('blue','navy')\n",
    "legend(\"topleft\", inset=.05, bty='n',\n",
    "legend = leg.labels, lty=leg.ltype, col=leg.colors,lwd = 2)"
   ]
  },
  {
   "cell_type": "markdown",
   "metadata": {},
   "source": [
    "analyze the chain with the CODA package and plot the chain autocorrelation"
   ]
  },
  {
   "cell_type": "code",
   "execution_count": null,
   "metadata": {
    "vscode": {
     "languageId": "r"
    }
   },
   "outputs": [],
   "source": [
    "library(coda)\n",
    "cChain1=as.mcmc((z))\n",
    "myLags=seq(0,500,by=1)\n",
    "y1=autocorr(cChain1,lags=myLags)\n",
    "plot(myLags,y1,col='red',xlab='lag',ylab='ACF')\n",
    "cat(\" For Sigma equal to\",1,\"we have that the sample sized autocorrelation is\",effectiveSize(cChain1),\"\\n\")"
   ]
  },
  {
   "cell_type": "markdown",
   "metadata": {
    "vscode": {
     "languageId": "r"
    }
   },
   "source": [
    "try to use different burn-in cycles and thinning and plot the corresponding posterior distribution\n",
    "and the chain autocorrelation function. What are the best parameters ?"
   ]
  },
  {
   "cell_type": "code",
   "execution_count": null,
   "metadata": {
    "vscode": {
     "languageId": "r"
    }
   },
   "outputs": [],
   "source": [
    "\n",
    "cChain2=as.mcmc((z[1:3000]))\n",
    "myLags=seq(0,500,by=1)\n",
    "y1=autocorr(cChain2,lags=myLags)\n",
    "plot(myLags,y1,col='red',xlab='lag',ylab='ACF')\n",
    "cat(\" For Sigma equal to\",1,\"we have that the sample sized autocorrelation is\",effectiveSize(cChain2),\"\\n\")"
   ]
  },
  {
   "cell_type": "markdown",
   "metadata": {},
   "source": [
    "### EXERCISE 2"
   ]
  },
  {
   "cell_type": "code",
   "execution_count": 145,
   "metadata": {
    "vscode": {
     "languageId": "r"
    }
   },
   "outputs": [],
   "source": [
    "Y=c(-7.821,-1.494,-15.444,-10.807,-13.735,-14.442,-15.892,-18.326)\n",
    "X=c(5,6,7,8,9,10,11,12)\n"
   ]
  },
  {
   "cell_type": "markdown",
   "metadata": {},
   "source": [
    "Perform a simple linear regression model running a Markov Chain Monte Carlo with JAGS"
   ]
  },
  {
   "cell_type": "code",
   "execution_count": 146,
   "metadata": {
    "vscode": {
     "languageId": "r"
    }
   },
   "outputs": [],
   "source": [
    "library(R2jags)\n",
    "dat=data.frame(X=X,Y=Y)\n",
    "jagsdata=with(dat,list(X=X,Y=Y,N=length(X)))\n",
    "lm1_jags <- function(){\n",
    "\t# Likelihood:\n",
    "\tfor (i in 1:N){\n",
    "\t\tY[i] ~ dnorm(mu[i], sigma) \n",
    "\t\tmu[i] <- alpha + beta * X[i]\n",
    "\t}\n",
    "\t# Priors:\n",
    "\talpha ~ dnorm(0, 10) # intercept\n",
    "\tbeta ~ dnorm(-1, 3) # slope\n",
    "\tsigma ~ dunif(0.034,4) # standard deviation\n",
    "\t\n",
    "}\n",
    "init_values <- function(){\n",
    "\tlist(alpha = rnorm(1), beta = rnorm(1), sigma = runif(1))\n",
    "}\n",
    "\n",
    "params=c(\"alpha\", \"beta\", \"sigma\")\n",
    "\n"
   ]
  },
  {
   "cell_type": "markdown",
   "metadata": {},
   "source": [
    "Number of chains=3, burnins=2000, iterations=12000"
   ]
  },
  {
   "cell_type": "code",
   "execution_count": 147,
   "metadata": {
    "vscode": {
     "languageId": "r"
    }
   },
   "outputs": [
    {
     "name": "stdout",
     "output_type": "stream",
     "text": [
      "Compiling model graph\n",
      "   Resolving undeclared variables\n",
      "   Allocating nodes\n",
      "Graph information:\n",
      "   Observed stochastic nodes: 8\n",
      "   Unobserved stochastic nodes: 3\n",
      "   Total graph size: 43\n",
      "\n",
      "Initializing model\n",
      "\n"
     ]
    },
    {
     "data": {
      "image/png": "[encoded data removed]",
      "text/plain": [
       "Plot with title \"Density of sigma\""
      ]
     },
     "metadata": {
      "image/png": {
       "height": 420,
       "width": 420
      }
     },
     "output_type": "display_data"
    }
   ],
   "source": [
    "fit_lm1=jags(data = jagsdata, inits = init_values, parameters.to.save = params, model.file = lm1_jags,n.chains = 3, n.iter = 12000, n.burnin = 2000, n.thin = 10, DIC = F)\n",
    "lm1_mcmc <- as.mcmc(fit_lm1) #Create the markov Chain\n",
    "nvalues <- 100\n",
    "Xempirical <- seq(min(X), max(X), length.out = nvalues)\n",
    "lm1_mcmc_combi <- as.mcmc(rbind(lm1_mcmc[[1]], lm1_mcmc[[2]], lm1_mcmc[[3]]))\n",
    "z=mean(lm1_mcmc_combi[,\"alpha\"])+Xempirical*mean(lm1_mcmc_combi[,\"beta\"])\n",
    "lm1_mcmc <- as.mcmc(fit_lm1)\n",
    "plot(lm1_mcmc)"
   ]
  },
  {
   "cell_type": "markdown",
   "metadata": {},
   "source": [
    "Compute the  95% Credibility Interval and fitting the line"
   ]
  },
  {
   "cell_type": "code",
   "execution_count": 148,
   "metadata": {
    "vscode": {
     "languageId": "r"
    }
   },
   "outputs": [
    {
     "data": {
      "image/png": "[encoded data removed]",
      "text/plain": [
       "plot without title"
      ]
     },
     "metadata": {
      "image/png": {
       "height": 420,
       "width": 420
      }
     },
     "output_type": "display_data"
    }
   ],
   "source": [
    "pred_mean_dist <- matrix(NA, nrow = nrow(lm1_mcmc_combi), ncol = nvalues)\n",
    "for (i in 1:nrow(pred_mean_dist)){\n",
    "\tpred_mean_dist[i,] <- lm1_mcmc_combi[i,\"alpha\"] + Xempirical * lm1_mcmc_combi[i,\"beta\"]\n",
    "}\n",
    "\n",
    "credible_lower <- apply(pred_mean_dist, MARGIN = 2, quantile, prob = 0.025)\n",
    "credible_upper <- apply(pred_mean_dist, MARGIN = 2, quantile, prob = 0.975)\n",
    "plot(Y ~ X, data = dat,col='red')\n",
    "lines(Xempirical,z,type='l',col='blue')\n",
    "lines(Xempirical, credible_lower, lty = 2,col='orange')\n",
    "lines(Xempirical, credible_upper, lty = 2,col='orange')\n",
    "leg.labels = c('Fit', 'Data','C.I. upper','C.I. lower')\n",
    "leg.ltype = c(1, 5)\n",
    "leg.colors = c('blue','red','orange','orange')\n",
    "legend(\"topright\", inset=.05, bty='n',legend = leg.labels, lty=leg.ltype, col=leg.colors,lwd = 2)"
   ]
  },
  {
   "cell_type": "markdown",
   "metadata": {},
   "source": [
    "Different burnin and n.thin value (5000,100) number of chains 1"
   ]
  },
  {
   "cell_type": "code",
   "execution_count": 149,
   "metadata": {
    "vscode": {
     "languageId": "r"
    }
   },
   "outputs": [
    {
     "name": "stdout",
     "output_type": "stream",
     "text": [
      "Compiling model graph\n",
      "   Resolving undeclared variables\n",
      "   Allocating nodes\n",
      "Graph information:\n",
      "   Observed stochastic nodes: 8\n",
      "   Unobserved stochastic nodes: 3\n",
      "   Total graph size: 43\n",
      "\n",
      "Initializing model\n",
      "\n"
     ]
    },
    {
     "data": {
      "image/png": "[encoded data removed]",
      "text/plain": [
       "Plot with title \"Density of sigma\""
      ]
     },
     "metadata": {
      "image/png": {
       "height": 420,
       "width": 420
      }
     },
     "output_type": "display_data"
    }
   ],
   "source": [
    "fit_lm1=jags(data = jagsdata, inits = init_values, parameters.to.save = params, model.file = lm1_jags,n.chains = 1, n.iter = 12000, n.burnin = 5000, n.thin = 100, DIC = F)\n",
    "\n",
    "lm1_mcmc <- as.mcmc(fit_lm1) #Create the markov Chain\n",
    "nvalues <- 100\n",
    "Xempirical <- seq(min(X), max(X), length.out = nvalues)\n",
    "lm1_mcmc <- as.mcmc(fit_lm1)\n",
    "plot(lm1_mcmc)"
   ]
  },
  {
   "cell_type": "markdown",
   "metadata": {},
   "source": [
    "I need to compute the Jacobian of the following transformation\n",
    "$$\n",
    "    \\sigma=\\frac{1}{\\sqrt{c}}\n",
    "\n",
    "$$\n",
    "Then from this I have that:\n",
    "\n",
    "$$\n",
    "\n",
    "    p(c)=\\frac{p(\\sigma)}{2 \\sqrt{\\sigma^3}}\n",
    "\n",
    "$$"
   ]
  },
  {
   "cell_type": "code",
   "execution_count": 175,
   "metadata": {
    "vscode": {
     "languageId": "r"
    }
   },
   "outputs": [
    {
     "data": {
      "image/png": "[encoded data removed]",
      "text/plain": [
       "Plot with title \"Original Posterior\""
      ]
     },
     "metadata": {
      "image/png": {
       "height": 420,
       "width": 420
      }
     },
     "output_type": "display_data"
    },
    {
     "data": {
      "image/png": "[encoded data removed]",
      "text/plain": [
       "Plot with title \"New Posterior\""
      ]
     },
     "metadata": {
      "image/png": {
       "height": 420,
       "width": 420
      }
     },
     "output_type": "display_data"
    }
   ],
   "source": [
    "s=unlist(lm1_mcmc[,\"sigma\"])\n",
    "stransformed=2*sqrt(s^3)\n",
    "a=s/stransformed\n",
    "plot(density(s), main=\"Original Posterior\", col=\"blue\")\n",
    "plot(density(a),main=\"New Posterior\",col=\"red\")"
   ]
  },
  {
   "cell_type": "markdown",
   "metadata": {
    "vscode": {
     "languageId": "r"
    }
   },
   "source": [
    "### Exercise 3"
   ]
  },
  {
   "cell_type": "code",
   "execution_count": null,
   "metadata": {
    "vscode": {
     "languageId": "r"
    }
   },
   "outputs": [],
   "source": [
    "x=c(2.06,5.56,7.93,6.56,205)\n"
   ]
  },
  {
   "cell_type": "code",
   "execution_count": null,
   "metadata": {
    "vscode": {
     "languageId": "r"
    }
   },
   "outputs": [],
   "source": [
    "library(R2jags)\n",
    "\n",
    "\n",
    "dat=data.frame(X=x)\n",
    "jagsdata=with(dat,list(X=x,N=length(x)))\n",
    "\n",
    "P_jags <- function(){\n",
    "\t# Likelihood:\n",
    "\tfor (i in 1:N){\n",
    "\t\tX[i] ~ dnorm(mu, sigma) \n",
    "\t}\n",
    "\t# Priors:\n",
    "\tmu ~ dunif(-10,10)\n",
    "\tsigma ~ dunif(0,50) # standard deviation\n",
    "\t\n",
    "}\n",
    "init_values <- function(){\n",
    "\tlist(mu =0, sigma =1)\n",
    "}\n",
    "params=c(\"mu\", \"sigma\")\n"
   ]
  },
  {
   "cell_type": "code",
   "execution_count": null,
   "metadata": {
    "vscode": {
     "languageId": "r"
    }
   },
   "outputs": [],
   "source": [
    "set.seed(42)\n",
    "fit_lm2=jags(data = jagsdata, inits = init_values, parameters.to.save = params, \n",
    "model.file = P_jags,n.chains = 1, n.iter = 150000, n.burnin =2000, n.thin = 100, DIC = F)\n",
    "mcChain2=as.mcmc(fit_lm2)\n",
    "plot(mcChain2)"
   ]
  },
  {
   "cell_type": "markdown",
   "metadata": {},
   "source": [
    "We implement the jacobian of the trasformation from \n",
    "$$\n",
    "\n",
    "m -> \\frac{m}{s}\n",
    "$$\n",
    "We get that:\n",
    "\n",
    "$$\n",
    "p(m')=\\frac{p(m)}{s}\n",
    "$$"
   ]
  },
  {
   "cell_type": "code",
   "execution_count": 178,
   "metadata": {
    "vscode": {
     "languageId": "r"
    }
   },
   "outputs": [
    {
     "data": {
      "image/png": "[encoded data removed]",
      "text/plain": [
       "Plot with title \"Original Posterior\""
      ]
     },
     "metadata": {
      "image/png": {
       "height": 420,
       "width": 420
      }
     },
     "output_type": "display_data"
    },
    {
     "data": {
      "image/png": "[encoded data removed]",
      "text/plain": [
       "Plot with title \"New Posterior\""
      ]
     },
     "metadata": {
      "image/png": {
       "height": 420,
       "width": 420
      }
     },
     "output_type": "display_data"
    }
   ],
   "source": [
    "MU=unlist(mcChain2[,\"mu\"])\n",
    "MuTrans=(unlist(mcChain2[,\"sigma\"]))\n",
    "A=MU/MuTrans\n",
    "plot(density(MU), main=\"Original Posterior\", col=\"blue\")\n",
    "plot(density(A),main=\"New Posterior\",col=\"red\")"
   ]
  },
  {
   "cell_type": "markdown",
   "metadata": {},
   "source": [
    "### Exercise 4"
   ]
  },
  {
   "cell_type": "code",
   "execution_count": null,
   "metadata": {
    "vscode": {
     "languageId": "r"
    }
   },
   "outputs": [],
   "source": [
    "D=c(0.0032,0.0034,0.214,0.263,0.275,0.265,0.45,0.5,0.5,0.63,0.8,0.9,0.9,0.9,0.9,2,2,2,2)\n",
    "V=c(170,290,-130,-70,-185,-220,200,290,270,200,920,450,500,500,960,500,850,800,1090)\n",
    "norm=sqrt(sum(V^2))\n",
    "library(R2jags)\n",
    "Vnorm=V/norm # Rescaling the velocities to [0,1] interval\n",
    "\n",
    "\n",
    "dat=data.frame(X=D,Y=Vnorm)\n",
    "jagsdata=with(dat,list(X=D,Y=Vnorm,N=length(D)))\n",
    "\n",
    "PP_jags <- function(){\n",
    "\t# Likelihood:\n",
    "\tfor (i in 1:N){\n",
    "\t\tY[i] ~ dnorm(b*X[i], c) \n",
    "\t}\n",
    "\t# Priors:\n",
    "\tb ~ dunif(0,1)\n",
    "\tc ~ dunif(1,1.5) # standard deviation\n",
    "\t\n",
    "}\n",
    "init_values <- function(){\n",
    "\tlist(b = 0.5, c =1.2)\n",
    "}\n",
    "params=c(\"b\", \"c\")\n"
   ]
  },
  {
   "cell_type": "code",
   "execution_count": null,
   "metadata": {
    "vscode": {
     "languageId": "r"
    }
   },
   "outputs": [],
   "source": [
    "fit_lm3=jags(data = jagsdata, inits = init_values, parameters.to.save = params, \n",
    "model.file = PP_jags,n.chains = 1, n.iter = 150000, n.burnin =2000, n.thin = 100, DIC = F)\n",
    "mcChain3=as.mcmc(fit_lm3)\n",
    "plot(mcChain3)\n",
    "B_list=unlist(mcChain3[,\"b\"])\n",
    "C_list=unlist(mcChain3[,\"c\"])"
   ]
  },
  {
   "cell_type": "code",
   "execution_count": null,
   "metadata": {
    "vscode": {
     "languageId": "r"
    }
   },
   "outputs": [],
   "source": [
    "B_list=(unlist((mcChain3[,\"b\"])))\n",
    "C_list=unlist(((mcChain3[,\"c\"])))\n",
    "D_emp=seq(min(D),max(D),length.out = 1000)\n",
    "B=mean(unlist(mcChain3[,\"b\"]))\n",
    "C=mean(unlist(mcChain3[,\"c\"]))\n",
    "V_emp=dnorm(B*D_emp,C)\n",
    "l=length(C_list)\n",
    "P=matrix(NA, nrow =l, ncol = 1000)\n",
    "for(i in 1:l){\n",
    "    P[i, ]=dnorm(D_emp*B_list[i],C_list[i])\n",
    "}\n",
    "CL=apply(P, MARGIN = 2, quantile, prob = 0.025)\n",
    "CU=apply(P, MARGIN = 2, quantile, prob = 0.975)\n",
    "plot(D,Vnorm,ylab=\"Normalized V\",col=\"red\")\n",
    "lines(D_emp,V_emp,xlab=\"D\",ylab=\"Y\",type='l',col='blue')\n",
    "lines(D_emp,CL,type='l',col='orange')\n",
    "lines(D_emp,CU,type='l',col='orange')\n",
    "leg.labels = c('Fit', 'Data','C.I. upper','C.I. lower')\n",
    "leg.ltype = c(1, 5)\n",
    "leg.colors = c('blue','red','orange','orange')\n",
    "legend(\"topleft\", inset=.05, bty='n',legend = leg.labels, lty=leg.ltype, col=leg.colors,lwd = 2)"
   ]
  }
 ],
 "metadata": {
  "kernelspec": {
   "display_name": "R",
   "language": "R",
   "name": "ir"
  },
  "language_info": {
   "codemirror_mode": "r",
   "file_extension": ".r",
   "mimetype": "text/x-r-source",
   "name": "R",
   "pygments_lexer": "r",
   "version": "4.3.3"
  }
 },
 "nbformat": 4,
 "nbformat_minor": 2
}
