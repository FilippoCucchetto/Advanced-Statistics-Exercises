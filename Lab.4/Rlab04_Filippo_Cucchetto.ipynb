{
 "cells": [
  {
   "cell_type": "markdown",
   "metadata": {
    "vscode": {
     "languageId": "r"
    }
   },
   "source": [
    "### LAB4 \n",
    "Filippo Cucchetto (matr.2110510)"
   ]
  },
  {
   "cell_type": "markdown",
   "metadata": {},
   "source": [
    "### Ex.1"
   ]
  },
  {
   "cell_type": "markdown",
   "metadata": {},
   "source": [
    "a) what is the probability distribution of y, the number of times the new method fails to detect the\n",
    "disease ?"
   ]
  },
  {
   "cell_type": "markdown",
   "metadata": {},
   "source": [
    "We can assume that the probability distribution of the number of times that new method fails will be a binomial distrubtion."
   ]
  },
  {
   "cell_type": "markdown",
   "metadata": {},
   "source": [
    "b) On the n = 75 patients sample, the new method fails to detect the disease in y = 6 cases. What is\n",
    "the frequentist estimator of the failure probability of the new method ?"
   ]
  },
  {
   "cell_type": "markdown",
   "metadata": {},
   "source": [
    "The frequentist estimator is just the rate between  \n",
    "$$\n",
    "\\hat{p_{F}} = \\frac{y}{n}\n",
    "$$"
   ]
  },
  {
   "cell_type": "code",
   "execution_count": 1,
   "metadata": {
    "vscode": {
     "languageId": "r"
    }
   },
   "outputs": [
    {
     "name": "stdout",
     "output_type": "stream",
     "text": [
      "Frequentist estimation of the failure probability 0.08 \n"
     ]
    }
   ],
   "source": [
    "y=6\n",
    "n=75\n",
    "x=n-y\n",
    "P_F=y/n\n",
    "cat(\"Frequentist estimation of the failure probability\",P_F,\"\\n\")"
   ]
  },
  {
   "cell_type": "markdown",
   "metadata": {
    "vscode": {
     "languageId": "r"
    }
   },
   "source": [
    "c) Setup a bayesian computation of the posterior probability, assuming a beta distribution with mean\n",
    "value 0.15 and standard deviation 0.14. Plot the posterior distribution for y, and mark on the plot\n",
    "the mean value and variance"
   ]
  },
  {
   "cell_type": "markdown",
   "metadata": {},
   "source": [
    "We know that:\n",
    "$$\n",
    "m= \\frac{a}{a+b}\n",
    "$$\n",
    "\n",
    "$$\n",
    "\\sigma^2_{0}=\\frac{ab}{(a+b+1)(a+b)}\n",
    "$$"
   ]
  },
  {
   "cell_type": "markdown",
   "metadata": {},
   "source": [
    "From which we can retrieve that:\n",
    "$$\n",
    "a=m \\cdot(\\frac{m(1-m)}{\\sigma^2_{0}}-1)\n",
    "$$\n",
    "\n",
    "$$\n",
    "b= a\\cdot \\left( \\frac{1}{m}-1 \\right)\n",
    "$$"
   ]
  },
  {
   "cell_type": "code",
   "execution_count": 2,
   "metadata": {
    "vscode": {
     "languageId": "r"
    }
   },
   "outputs": [],
   "source": [
    "X=seq(0,1,length.out = 10000)\n",
    "m=0.15\n",
    "sd=0.14\n",
    "var=sd^2\n",
    "a=m*(((1-m)*m)/(var)-1)\n",
    "b=a*((1/m)-1)\n",
    "A=a+y\n",
    "B=a+n-y\n",
    "M=A/(A+B)\n",
    "V=(A*B)/(((A+B)^2)*(A+B+1))\n"
   ]
  },
  {
   "cell_type": "code",
   "execution_count": 3,
   "metadata": {
    "vscode": {
     "languageId": "r"
    }
   },
   "outputs": [
    {
     "data": {
      "image/png": "[encoded data removed]",
      "text/plain": [
       "Plot with title \"Posterior\""
      ]
     },
     "metadata": {
      "image/png": {
       "height": 420,
       "width": 420
      }
     },
     "output_type": "display_data"
    }
   ],
   "source": [
    "plot(X,dbeta(X,A,B),col=\"blue\",type=\"l\",lty=1,xlim=c(0,0.45),lwd = 3,xlab=\"p\",ylab=\"P(p|n,y,M)\",main=\"Posterior\")\n",
    "abline(v=M,col=\"green\")\n",
    "abline(v=V,col=\"orange\")\n",
    "legend(x = \"topright\",\n",
    "       col = c(\"blue\",\"green\",\"orange\"),\n",
    "       lty = c(1,1),\n",
    "       lwd = c(2,2),\n",
    "       cex=1,\n",
    "       bty=\"n\",\n",
    "       legend = c('Bayesian posterior ', \"Bayesian Mean\", \"Bayes Variance\"))"
   ]
  },
  {
   "cell_type": "markdown",
   "metadata": {},
   "source": [
    "1.d) Perform a test of hypothesis assuming that if the probability of failing to the detect the desease in\n",
    "ill patients is greater or equal than 15%, the new test is no better that the traditional method. Test\n",
    "the sample at a 5% level of significance in the Bayesian way"
   ]
  },
  {
   "cell_type": "markdown",
   "metadata": {},
   "source": [
    "We have that:\n",
    "$$\n",
    "H_{0}:  p_{0} \\geq 0.15\n",
    "$$\n",
    "$$\n",
    "H_{1}:  p_{0} < 0.15\n",
    "$$\n",
    "\n",
    "Therefore we integrate our posterior from 0 to $p_{0}$, take 1 minus this value and if this difference is less thatn 5% we reject the null Hypothesis and accept $ H_{1}$"
   ]
  },
  {
   "cell_type": "code",
   "execution_count": 4,
   "metadata": {
    "vscode": {
     "languageId": "r"
    }
   },
   "outputs": [
    {
     "name": "stdout",
     "output_type": "stream",
     "text": [
      "Probability of p being less than 0.15: \n",
      " 0.04475614 \n",
      "We reject the null Hypothesis \n"
     ]
    }
   ],
   "source": [
    "H_0=1-integrate( function(x){dbeta(x,A,B)},0,0.15)$value\n",
    "cat(\"Probability of p being less than 0.15:\",\"\\n\",H_0,\"\\n\")\n",
    "if(H_0<0.05){\n",
    "    cat(\"We reject the null Hypothesis\",\"\\n\")\n",
    "}\n"
   ]
  },
  {
   "cell_type": "markdown",
   "metadata": {},
   "source": [
    "Since we rejected we can say that the new test is better than the standard one, with a 5% Bayesian significance"
   ]
  },
  {
   "cell_type": "markdown",
   "metadata": {
    "vscode": {
     "languageId": "r"
    }
   },
   "source": [
    "1.e)Perform the same hypothesis test in the classical frequentist way"
   ]
  },
  {
   "cell_type": "markdown",
   "metadata": {},
   "source": [
    "We compute the  $ p_{value} $"
   ]
  },
  {
   "cell_type": "code",
   "execution_count": 5,
   "metadata": {
    "vscode": {
     "languageId": "r"
    }
   },
   "outputs": [
    {
     "name": "stdout",
     "output_type": "stream",
     "text": [
      "The p_value is 0.02342005 \n"
     ]
    }
   ],
   "source": [
    "z=dbinom(seq(0,5,by=1),75,15/100)\n",
    "p_value=sum(z)\n",
    "cat(\"The p_value is\",p_value,\"\\n\")"
   ]
  },
  {
   "cell_type": "markdown",
   "metadata": {},
   "source": [
    "Since the $ p_{value}$ is less than $\\alpha $ we reject the null hypothesis $ H_{0}$ "
   ]
  },
  {
   "cell_type": "markdown",
   "metadata": {},
   "source": [
    "### EX2"
   ]
  },
  {
   "cell_type": "markdown",
   "metadata": {},
   "source": [
    "a) find the posterior distribution, the posterior mean and standard deviation"
   ]
  },
  {
   "cell_type": "code",
   "execution_count": 6,
   "metadata": {
    "vscode": {
     "languageId": "r"
    }
   },
   "outputs": [
    {
     "name": "stderr",
     "output_type": "stream",
     "text": [
      "Warning message in Lvec * unlist(PriorVec(dat)):\n",
      "\"la lunghezza più lunga dell'oggetto non è un multiplo della lunghezza più corta dell'oggetto\"\n",
      "Warning message in sapply(x, Likelihood, X) * unlist(PriorVec(x)):\n",
      "\"la lunghezza più lunga dell'oggetto non è un multiplo della lunghezza più corta dell'oggetto\"\n"
     ]
    }
   ],
   "source": [
    "X=sort(c(4.09,4.68,1.87,2.62,5.58,8.68,4.07,4.78,4.79,4.49,5.85,5.09,2.40,6.27,6.30,4.47))\n",
    "sd=2\n",
    "prior=function(x){\n",
    "    \n",
    "    if(0<x & x<3){\n",
    "        return(x)}\n",
    "    if(3<x & x<=8){\n",
    "        return(3)}\n",
    "    if(5<x & x <=8){\n",
    "        return((8-x))}\n",
    "    if(x>8){\n",
    "        return(0)}\n",
    "}\n",
    "Likelihood=function(x,mu){\n",
    "    return(prod(dnorm(x,mu,sd=2)))\n",
    "}\n",
    "dat=seq(1,9,by=0.01)\n",
    "Lvec=sapply(dat,Likelihood,X)\n",
    "PriorVec=Vectorize(prior)\n",
    "\n",
    "Post=Lvec*unlist(PriorVec(dat))\n",
    "NormPost=Post/integrate(function(x){sapply(x,Likelihood,X)*unlist(PriorVec(x))},0,Inf)$value\n"
   ]
  },
  {
   "cell_type": "code",
   "execution_count": 7,
   "metadata": {
    "vscode": {
     "languageId": "r"
    }
   },
   "outputs": [],
   "source": [
    "PosteriorMean=weighted.mean(dat, NormPost)\n",
    "Variance=weighted.mean(dat^2, NormPost)-PosteriorMean^2"
   ]
  },
  {
   "cell_type": "code",
   "execution_count": 8,
   "metadata": {
    "vscode": {
     "languageId": "r"
    }
   },
   "outputs": [
    {
     "name": "stdout",
     "output_type": "stream",
     "text": [
      "Posterior Mean 4.751894 \n",
      "Standard Deviation 0.4999641 \n"
     ]
    }
   ],
   "source": [
    "cat(\"Posterior Mean\",PosteriorMean,\"\\n\")\n",
    "cat(\"Standard Deviation\",sqrt(Variance),\"\\n\")"
   ]
  },
  {
   "cell_type": "markdown",
   "metadata": {},
   "source": [
    "2.b)find the 95% credibility interval for μ"
   ]
  },
  {
   "cell_type": "code",
   "execution_count": 9,
   "metadata": {
    "vscode": {
     "languageId": "r"
    }
   },
   "outputs": [
    {
     "name": "stdout",
     "output_type": "stream",
     "text": [
      "Credibility Interval is 4.751894 +/- 2.010112 \n"
     ]
    }
   ],
   "source": [
    "z=qnorm(0.95,mean=PosteriorMean,sd=2)\n",
    "CI=abs(z*Variance)\n",
    "cat(\"Credibility Interval is\",PosteriorMean ,\"+/-\",CI,\"\\n\")"
   ]
  },
  {
   "cell_type": "markdown",
   "metadata": {},
   "source": [
    "2.c) plot the posterior distribution, indicating on the same plot: the mean value, the standard deviation,\n",
    "and the 95% credibility interval"
   ]
  },
  {
   "cell_type": "code",
   "execution_count": 10,
   "metadata": {
    "vscode": {
     "languageId": "r"
    }
   },
   "outputs": [
    {
     "data": {
      "image/png": "[encoded data removed]",
      "text/plain": [
       "plot without title"
      ]
     },
     "metadata": {
      "image/png": {
       "height": 420,
       "width": 420
      }
     },
     "output_type": "display_data"
    }
   ],
   "source": [
    "plot(dat,NormPost,col=\"Blue\")\n",
    "segments(x0=PosteriorMean-CI,y0=0,x1=PosteriorMean+CI,y1=0,col=\"green\")\n",
    "points(x=PosteriorMean-CI,y=0,cex=2,col=\"green\",type=\"p\",pch=19)\n",
    "points(x=PosteriorMean+CI,y=0,cex=2,col=\"green\",type=\"p\",pch=19)\n",
    "legend(x = \"topright\",\n",
    "       col = c(\"blue\",\"green\"),   lty = c(1,1),       lwd = c(1,1),\n",
    "       cex=1,\n",
    "       bty=\"n\",\n",
    "       legend = c('Posterior ', 'Credibility Interval' ))"
   ]
  },
  {
   "cell_type": "markdown",
   "metadata": {},
   "source": [
    "2.d)plot, on the same graph, the prior, the likelihood and the posterior distribution"
   ]
  },
  {
   "cell_type": "code",
   "execution_count": 11,
   "metadata": {
    "vscode": {
     "languageId": "r"
    }
   },
   "outputs": [
    {
     "data": {
      "image/png": "[encoded data removed]",
      "text/plain": [
       "plot without title"
      ]
     },
     "metadata": {
      "image/png": {
       "height": 420,
       "width": 420
      }
     },
     "output_type": "display_data"
    }
   ],
   "source": [
    "#plot(dat,unlist(PriorVec(dat)),col=\"orange\")\n",
    "x=seq(1,9,length.out=80)\n",
    "\n",
    "plot(dat,NormPost,col=\"blue\",ylim=c(0,3.1))\n",
    "lines(x,unlist(sapply(x,prior)),col=\"orange\",type=\"l\")\n",
    "\n",
    "lines(dat,Lvec/sum(Lvec),col=\"red\")\n"
   ]
  },
  {
   "cell_type": "markdown",
   "metadata": {},
   "source": [
    "### Exercise 3"
   ]
  },
  {
   "cell_type": "code",
   "execution_count": 18,
   "metadata": {
    "vscode": {
     "languageId": "r"
    }
   },
   "outputs": [],
   "source": [
    "set.seed(89540)\n",
    "box0=list(0,0,0,0,0,0)\n",
    "box1=list(1,0,0,0,0,0)\n",
    "box2=list(1,1,0,0,0,0)\n",
    "box3=list(1,1,1,0,0,0)\n",
    "box4=list(1,1,1,1,0,0)\n",
    "box5=list(1,1,1,1,1,0)\n",
    "boxes=list(box0,box1,box2,box3,box4,box5)"
   ]
  },
  {
   "cell_type": "code",
   "execution_count": 19,
   "metadata": {
    "vscode": {
     "languageId": "r"
    }
   },
   "outputs": [],
   "source": [
    " #number of iterations of the program\n",
    "m=1 #chose how many stones to extract\n",
    "P0=0\n",
    "P1=0\n",
    "P2=0\n",
    "P3=0\n",
    "P4=0\n",
    "P5=0\n",
    "n=10 \n",
    "K=1000\n",
    "listN=(0)\n",
    "listP0=c(0.167)\n",
    "listP1=c(0.167)\n",
    "listP2=c(0.167)\n",
    "listP3=c(0.167)\n",
    "listP4=c(0.167)\n",
    "listP5=c(0.167)\n",
    "i=2\n",
    "a=sample(1:6,1)\n",
    "while(i<K){\n",
    "    \n",
    "    RandomBall=unlist(sample(unlist(boxes[a]),1,\"True\"))\n",
    "    #update probability\n",
    "    if(RandomBall==0)\n",
    "    {\n",
    "        listP0[i]=0\n",
    "        listP1[i]=(2*(1/5)*unlist(listP1[i-1]))/sum(listP1)\n",
    "        listP2[i]=2*(2/5)*unlist(listP2[i-1])/sum(listP2)\n",
    "        listP3[i]=2*(3/5)*unlist(listP3[i-1])/sum(listP3)\n",
    "        listP4[i]=2*(4/5)*unlist(listP4[i-1])/sum(listP4)\n",
    "        listP5[i]=2*(5/5)*unlist(listP5[i-1])/sum(listP5)\n",
    "    }\n",
    "    else\n",
    "    { \n",
    "        listP0[i]=2*(5/5)*unlist(listP1[i-1])/sum(listP0)\n",
    "        listP1[i]=2*((5-1)/5)*unlist(listP1[i-1])/sum(listP1)\n",
    "        listP2[i]=2*((5-2)/5)*unlist(listP2[i-1])/sum(listP2)\n",
    "        listP3[i]=2*((5-3)/5)*unlist(listP3[i-1])/sum(listP3)\n",
    "        listP4[i]=2*((5-4)/5)*unlist(listP4[i-1])/sum(listP4)\n",
    "        listP5[i]=0\n",
    "    }\n",
    "    listN[i]=i\n",
    "    i=i+1\n",
    "}\n"
   ]
  },
  {
   "cell_type": "code",
   "execution_count": 23,
   "metadata": {
    "vscode": {
     "languageId": "r"
    }
   },
   "outputs": [
    {
     "data": {
      "image/png": "[encoded data removed]",
      "text/plain": [
       "plot without title"
      ]
     },
     "metadata": {
      "image/png": {
       "height": 420,
       "width": 420
      }
     },
     "output_type": "display_data"
    }
   ],
   "source": [
    "plot((listP0),xlim=c(0,15),col=\"blue\",pch=19,cex=2)\n",
    "points((listP1),col=\"orange\",pch=19,cex=2)\n",
    "points((listP2),col=\"green\",pch=19,cex=2)\n",
    "points((listP3),col=\"red\",pch=19,cex=2)\n",
    "points((listP4),col=\"pink\",pch=19,cex=2)\n",
    "points((listP5),col=\"black\",pch=19,cex=2)\n",
    "legend(x='topright', col = c(\"blue\",\"orange\",\"green\",\"red\",\"pink\",\"black\"),lty = c(1,1,1,1,1,1),lwd = c(1,1,1,1,1,1),cex=1,bty=\"n\", legend = c('FirstBox ','SecondBox','ThirdBox','FourthBox','FifthBox','SixthBox'))"
   ]
  },
  {
   "cell_type": "code",
   "execution_count": 2,
   "metadata": {
    "vscode": {
     "languageId": "r"
    }
   },
   "outputs": [
    {
     "data": {
      "text/html": [
       "'double'"
      ],
      "text/latex": [
       "'double'"
      ],
      "text/markdown": [
       "'double'"
      ],
      "text/plain": [
       "[1] \"double\""
      ]
     },
     "metadata": {},
     "output_type": "display_data"
    }
   ],
   "source": [
    "v1<-c(1,2,3)\n",
    "l1<-list(1,2,3)\n",
    "typeof(v1)"
   ]
  },
  {
   "cell_type": "code",
   "execution_count": null,
   "metadata": {
    "vscode": {
     "languageId": "r"
    }
   },
   "outputs": [],
   "source": []
  }
 ],
 "metadata": {
  "kernelspec": {
   "display_name": "R",
   "language": "R",
   "name": "ir"
  },
  "language_info": {
   "codemirror_mode": "r",
   "file_extension": ".r",
   "mimetype": "text/x-r-source",
   "name": "R",
   "pygments_lexer": "r",
   "version": "4.3.3"
  }
 },
 "nbformat": 4,
 "nbformat_minor": 2
}
